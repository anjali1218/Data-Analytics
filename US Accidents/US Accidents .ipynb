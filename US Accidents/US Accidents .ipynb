{
 "cells": [
  {
   "cell_type": "code",
   "execution_count": 2,
   "id": "b62f2039",
   "metadata": {},
   "outputs": [],
   "source": [
    "import pandas as pd\n",
    "import numpy as nm"
   ]
  },
  {
   "cell_type": "code",
   "execution_count": 3,
   "id": "508c8f00",
   "metadata": {},
   "outputs": [],
   "source": [
    "#load the data\n",
    "df = pd.read_csv(\"Desktop/Desktop/Analytics/US_Accidents_March23.csv\")"
   ]
  },
  {
   "cell_type": "code",
   "execution_count": 4,
   "id": "f0b892b6",
   "metadata": {},
   "outputs": [
    {
     "data": {
      "text/html": [
       "<div>\n",
       "<style scoped>\n",
       "    .dataframe tbody tr th:only-of-type {\n",
       "        vertical-align: middle;\n",
       "    }\n",
       "\n",
       "    .dataframe tbody tr th {\n",
       "        vertical-align: top;\n",
       "    }\n",
       "\n",
       "    .dataframe thead th {\n",
       "        text-align: right;\n",
       "    }\n",
       "</style>\n",
       "<table border=\"1\" class=\"dataframe\">\n",
       "  <thead>\n",
       "    <tr style=\"text-align: right;\">\n",
       "      <th></th>\n",
       "      <th>ID</th>\n",
       "      <th>Source</th>\n",
       "      <th>Severity</th>\n",
       "      <th>Start_Time</th>\n",
       "      <th>End_Time</th>\n",
       "      <th>Start_Lat</th>\n",
       "      <th>Start_Lng</th>\n",
       "      <th>End_Lat</th>\n",
       "      <th>End_Lng</th>\n",
       "      <th>Distance(mi)</th>\n",
       "      <th>...</th>\n",
       "      <th>Roundabout</th>\n",
       "      <th>Station</th>\n",
       "      <th>Stop</th>\n",
       "      <th>Traffic_Calming</th>\n",
       "      <th>Traffic_Signal</th>\n",
       "      <th>Turning_Loop</th>\n",
       "      <th>Sunrise_Sunset</th>\n",
       "      <th>Civil_Twilight</th>\n",
       "      <th>Nautical_Twilight</th>\n",
       "      <th>Astronomical_Twilight</th>\n",
       "    </tr>\n",
       "  </thead>\n",
       "  <tbody>\n",
       "    <tr>\n",
       "      <th>0</th>\n",
       "      <td>A-1</td>\n",
       "      <td>Source2</td>\n",
       "      <td>3</td>\n",
       "      <td>2016-02-08 05:46:00</td>\n",
       "      <td>2016-02-08 11:00:00</td>\n",
       "      <td>39.865147</td>\n",
       "      <td>-84.058723</td>\n",
       "      <td>NaN</td>\n",
       "      <td>NaN</td>\n",
       "      <td>0.01</td>\n",
       "      <td>...</td>\n",
       "      <td>False</td>\n",
       "      <td>False</td>\n",
       "      <td>False</td>\n",
       "      <td>False</td>\n",
       "      <td>False</td>\n",
       "      <td>False</td>\n",
       "      <td>Night</td>\n",
       "      <td>Night</td>\n",
       "      <td>Night</td>\n",
       "      <td>Night</td>\n",
       "    </tr>\n",
       "    <tr>\n",
       "      <th>1</th>\n",
       "      <td>A-2</td>\n",
       "      <td>Source2</td>\n",
       "      <td>2</td>\n",
       "      <td>2016-02-08 06:07:59</td>\n",
       "      <td>2016-02-08 06:37:59</td>\n",
       "      <td>39.928059</td>\n",
       "      <td>-82.831184</td>\n",
       "      <td>NaN</td>\n",
       "      <td>NaN</td>\n",
       "      <td>0.01</td>\n",
       "      <td>...</td>\n",
       "      <td>False</td>\n",
       "      <td>False</td>\n",
       "      <td>False</td>\n",
       "      <td>False</td>\n",
       "      <td>False</td>\n",
       "      <td>False</td>\n",
       "      <td>Night</td>\n",
       "      <td>Night</td>\n",
       "      <td>Night</td>\n",
       "      <td>Day</td>\n",
       "    </tr>\n",
       "    <tr>\n",
       "      <th>2</th>\n",
       "      <td>A-3</td>\n",
       "      <td>Source2</td>\n",
       "      <td>2</td>\n",
       "      <td>2016-02-08 06:49:27</td>\n",
       "      <td>2016-02-08 07:19:27</td>\n",
       "      <td>39.063148</td>\n",
       "      <td>-84.032608</td>\n",
       "      <td>NaN</td>\n",
       "      <td>NaN</td>\n",
       "      <td>0.01</td>\n",
       "      <td>...</td>\n",
       "      <td>False</td>\n",
       "      <td>False</td>\n",
       "      <td>False</td>\n",
       "      <td>False</td>\n",
       "      <td>True</td>\n",
       "      <td>False</td>\n",
       "      <td>Night</td>\n",
       "      <td>Night</td>\n",
       "      <td>Day</td>\n",
       "      <td>Day</td>\n",
       "    </tr>\n",
       "    <tr>\n",
       "      <th>3</th>\n",
       "      <td>A-4</td>\n",
       "      <td>Source2</td>\n",
       "      <td>3</td>\n",
       "      <td>2016-02-08 07:23:34</td>\n",
       "      <td>2016-02-08 07:53:34</td>\n",
       "      <td>39.747753</td>\n",
       "      <td>-84.205582</td>\n",
       "      <td>NaN</td>\n",
       "      <td>NaN</td>\n",
       "      <td>0.01</td>\n",
       "      <td>...</td>\n",
       "      <td>False</td>\n",
       "      <td>False</td>\n",
       "      <td>False</td>\n",
       "      <td>False</td>\n",
       "      <td>False</td>\n",
       "      <td>False</td>\n",
       "      <td>Night</td>\n",
       "      <td>Day</td>\n",
       "      <td>Day</td>\n",
       "      <td>Day</td>\n",
       "    </tr>\n",
       "    <tr>\n",
       "      <th>4</th>\n",
       "      <td>A-5</td>\n",
       "      <td>Source2</td>\n",
       "      <td>2</td>\n",
       "      <td>2016-02-08 07:39:07</td>\n",
       "      <td>2016-02-08 08:09:07</td>\n",
       "      <td>39.627781</td>\n",
       "      <td>-84.188354</td>\n",
       "      <td>NaN</td>\n",
       "      <td>NaN</td>\n",
       "      <td>0.01</td>\n",
       "      <td>...</td>\n",
       "      <td>False</td>\n",
       "      <td>False</td>\n",
       "      <td>False</td>\n",
       "      <td>False</td>\n",
       "      <td>True</td>\n",
       "      <td>False</td>\n",
       "      <td>Day</td>\n",
       "      <td>Day</td>\n",
       "      <td>Day</td>\n",
       "      <td>Day</td>\n",
       "    </tr>\n",
       "  </tbody>\n",
       "</table>\n",
       "<p>5 rows × 46 columns</p>\n",
       "</div>"
      ],
      "text/plain": [
       "    ID   Source  Severity           Start_Time             End_Time  \\\n",
       "0  A-1  Source2         3  2016-02-08 05:46:00  2016-02-08 11:00:00   \n",
       "1  A-2  Source2         2  2016-02-08 06:07:59  2016-02-08 06:37:59   \n",
       "2  A-3  Source2         2  2016-02-08 06:49:27  2016-02-08 07:19:27   \n",
       "3  A-4  Source2         3  2016-02-08 07:23:34  2016-02-08 07:53:34   \n",
       "4  A-5  Source2         2  2016-02-08 07:39:07  2016-02-08 08:09:07   \n",
       "\n",
       "   Start_Lat  Start_Lng  End_Lat  End_Lng  Distance(mi)  ... Roundabout  \\\n",
       "0  39.865147 -84.058723      NaN      NaN          0.01  ...      False   \n",
       "1  39.928059 -82.831184      NaN      NaN          0.01  ...      False   \n",
       "2  39.063148 -84.032608      NaN      NaN          0.01  ...      False   \n",
       "3  39.747753 -84.205582      NaN      NaN          0.01  ...      False   \n",
       "4  39.627781 -84.188354      NaN      NaN          0.01  ...      False   \n",
       "\n",
       "  Station   Stop Traffic_Calming Traffic_Signal Turning_Loop Sunrise_Sunset  \\\n",
       "0   False  False           False          False        False          Night   \n",
       "1   False  False           False          False        False          Night   \n",
       "2   False  False           False           True        False          Night   \n",
       "3   False  False           False          False        False          Night   \n",
       "4   False  False           False           True        False            Day   \n",
       "\n",
       "  Civil_Twilight Nautical_Twilight Astronomical_Twilight  \n",
       "0          Night             Night                 Night  \n",
       "1          Night             Night                   Day  \n",
       "2          Night               Day                   Day  \n",
       "3            Day               Day                   Day  \n",
       "4            Day               Day                   Day  \n",
       "\n",
       "[5 rows x 46 columns]"
      ]
     },
     "execution_count": 4,
     "metadata": {},
     "output_type": "execute_result"
    }
   ],
   "source": [
    "df.head()"
   ]
  },
  {
   "cell_type": "code",
   "execution_count": null,
   "id": "dda8e7a9",
   "metadata": {},
   "outputs": [],
   "source": []
  },
  {
   "cell_type": "code",
   "execution_count": 5,
   "id": "54b5fba8",
   "metadata": {},
   "outputs": [
    {
     "data": {
      "text/plain": [
       "Index(['ID', 'Source', 'Severity', 'Start_Time', 'End_Time', 'Start_Lat',\n",
       "       'Start_Lng', 'End_Lat', 'End_Lng', 'Distance(mi)', 'Description',\n",
       "       'Street', 'City', 'County', 'State', 'Zipcode', 'Country', 'Timezone',\n",
       "       'Airport_Code', 'Weather_Timestamp', 'Temperature(F)', 'Wind_Chill(F)',\n",
       "       'Humidity(%)', 'Pressure(in)', 'Visibility(mi)', 'Wind_Direction',\n",
       "       'Wind_Speed(mph)', 'Precipitation(in)', 'Weather_Condition', 'Amenity',\n",
       "       'Bump', 'Crossing', 'Give_Way', 'Junction', 'No_Exit', 'Railway',\n",
       "       'Roundabout', 'Station', 'Stop', 'Traffic_Calming', 'Traffic_Signal',\n",
       "       'Turning_Loop', 'Sunrise_Sunset', 'Civil_Twilight', 'Nautical_Twilight',\n",
       "       'Astronomical_Twilight'],\n",
       "      dtype='object')"
      ]
     },
     "execution_count": 5,
     "metadata": {},
     "output_type": "execute_result"
    }
   ],
   "source": [
    "#to know the columns\n",
    "df.columns"
   ]
  },
  {
   "cell_type": "code",
   "execution_count": 6,
   "id": "3322719a",
   "metadata": {},
   "outputs": [
    {
     "data": {
      "text/plain": [
       "46"
      ]
     },
     "execution_count": 6,
     "metadata": {},
     "output_type": "execute_result"
    }
   ],
   "source": [
    "#check the rows\n",
    "len(df.columns)\n"
   ]
  },
  {
   "cell_type": "code",
   "execution_count": 7,
   "id": "c6519997",
   "metadata": {},
   "outputs": [
    {
     "data": {
      "text/plain": [
       "7728394"
      ]
     },
     "execution_count": 7,
     "metadata": {},
     "output_type": "execute_result"
    }
   ],
   "source": [
    "#check the rows\n",
    "len(df)"
   ]
  },
  {
   "cell_type": "code",
   "execution_count": 8,
   "id": "46cc2546",
   "metadata": {},
   "outputs": [
    {
     "data": {
      "text/plain": [
       "ID                        object\n",
       "Source                    object\n",
       "Severity                   int64\n",
       "Start_Time                object\n",
       "End_Time                  object\n",
       "Start_Lat                float64\n",
       "Start_Lng                float64\n",
       "End_Lat                  float64\n",
       "End_Lng                  float64\n",
       "Distance(mi)             float64\n",
       "Description               object\n",
       "Street                    object\n",
       "City                      object\n",
       "County                    object\n",
       "State                     object\n",
       "Zipcode                   object\n",
       "Country                   object\n",
       "Timezone                  object\n",
       "Airport_Code              object\n",
       "Weather_Timestamp         object\n",
       "Temperature(F)           float64\n",
       "Wind_Chill(F)            float64\n",
       "Humidity(%)              float64\n",
       "Pressure(in)             float64\n",
       "Visibility(mi)           float64\n",
       "Wind_Direction            object\n",
       "Wind_Speed(mph)          float64\n",
       "Precipitation(in)        float64\n",
       "Weather_Condition         object\n",
       "Amenity                     bool\n",
       "Bump                        bool\n",
       "Crossing                    bool\n",
       "Give_Way                    bool\n",
       "Junction                    bool\n",
       "No_Exit                     bool\n",
       "Railway                     bool\n",
       "Roundabout                  bool\n",
       "Station                     bool\n",
       "Stop                        bool\n",
       "Traffic_Calming             bool\n",
       "Traffic_Signal              bool\n",
       "Turning_Loop                bool\n",
       "Sunrise_Sunset            object\n",
       "Civil_Twilight            object\n",
       "Nautical_Twilight         object\n",
       "Astronomical_Twilight     object\n",
       "dtype: object"
      ]
     },
     "execution_count": 8,
     "metadata": {},
     "output_type": "execute_result"
    }
   ],
   "source": [
    "#check the datattype\n",
    "df.dtypes"
   ]
  },
  {
   "cell_type": "code",
   "execution_count": 9,
   "id": "a31842c5",
   "metadata": {},
   "outputs": [
    {
     "name": "stdout",
     "output_type": "stream",
     "text": [
      "<class 'pandas.core.frame.DataFrame'>\n",
      "RangeIndex: 7728394 entries, 0 to 7728393\n",
      "Data columns (total 46 columns):\n",
      " #   Column                 Dtype  \n",
      "---  ------                 -----  \n",
      " 0   ID                     object \n",
      " 1   Source                 object \n",
      " 2   Severity               int64  \n",
      " 3   Start_Time             object \n",
      " 4   End_Time               object \n",
      " 5   Start_Lat              float64\n",
      " 6   Start_Lng              float64\n",
      " 7   End_Lat                float64\n",
      " 8   End_Lng                float64\n",
      " 9   Distance(mi)           float64\n",
      " 10  Description            object \n",
      " 11  Street                 object \n",
      " 12  City                   object \n",
      " 13  County                 object \n",
      " 14  State                  object \n",
      " 15  Zipcode                object \n",
      " 16  Country                object \n",
      " 17  Timezone               object \n",
      " 18  Airport_Code           object \n",
      " 19  Weather_Timestamp      object \n",
      " 20  Temperature(F)         float64\n",
      " 21  Wind_Chill(F)          float64\n",
      " 22  Humidity(%)            float64\n",
      " 23  Pressure(in)           float64\n",
      " 24  Visibility(mi)         float64\n",
      " 25  Wind_Direction         object \n",
      " 26  Wind_Speed(mph)        float64\n",
      " 27  Precipitation(in)      float64\n",
      " 28  Weather_Condition      object \n",
      " 29  Amenity                bool   \n",
      " 30  Bump                   bool   \n",
      " 31  Crossing               bool   \n",
      " 32  Give_Way               bool   \n",
      " 33  Junction               bool   \n",
      " 34  No_Exit                bool   \n",
      " 35  Railway                bool   \n",
      " 36  Roundabout             bool   \n",
      " 37  Station                bool   \n",
      " 38  Stop                   bool   \n",
      " 39  Traffic_Calming        bool   \n",
      " 40  Traffic_Signal         bool   \n",
      " 41  Turning_Loop           bool   \n",
      " 42  Sunrise_Sunset         object \n",
      " 43  Civil_Twilight         object \n",
      " 44  Nautical_Twilight      object \n",
      " 45  Astronomical_Twilight  object \n",
      "dtypes: bool(13), float64(12), int64(1), object(20)\n",
      "memory usage: 2.0+ GB\n"
     ]
    }
   ],
   "source": [
    "#info tells you all the infor like rows, coulmns, datatypes\n",
    "df.info()"
   ]
  },
  {
   "cell_type": "code",
   "execution_count": 10,
   "id": "6f5a459c",
   "metadata": {},
   "outputs": [
    {
     "data": {
      "text/html": [
       "<div>\n",
       "<style scoped>\n",
       "    .dataframe tbody tr th:only-of-type {\n",
       "        vertical-align: middle;\n",
       "    }\n",
       "\n",
       "    .dataframe tbody tr th {\n",
       "        vertical-align: top;\n",
       "    }\n",
       "\n",
       "    .dataframe thead th {\n",
       "        text-align: right;\n",
       "    }\n",
       "</style>\n",
       "<table border=\"1\" class=\"dataframe\">\n",
       "  <thead>\n",
       "    <tr style=\"text-align: right;\">\n",
       "      <th></th>\n",
       "      <th>Severity</th>\n",
       "      <th>Start_Lat</th>\n",
       "      <th>Start_Lng</th>\n",
       "      <th>End_Lat</th>\n",
       "      <th>End_Lng</th>\n",
       "      <th>Distance(mi)</th>\n",
       "      <th>Temperature(F)</th>\n",
       "      <th>Wind_Chill(F)</th>\n",
       "      <th>Humidity(%)</th>\n",
       "      <th>Pressure(in)</th>\n",
       "      <th>Visibility(mi)</th>\n",
       "      <th>Wind_Speed(mph)</th>\n",
       "      <th>Precipitation(in)</th>\n",
       "    </tr>\n",
       "  </thead>\n",
       "  <tbody>\n",
       "    <tr>\n",
       "      <th>count</th>\n",
       "      <td>7.728394e+06</td>\n",
       "      <td>7.728394e+06</td>\n",
       "      <td>7.728394e+06</td>\n",
       "      <td>4.325632e+06</td>\n",
       "      <td>4.325632e+06</td>\n",
       "      <td>7.728394e+06</td>\n",
       "      <td>7.564541e+06</td>\n",
       "      <td>5.729375e+06</td>\n",
       "      <td>7.554250e+06</td>\n",
       "      <td>7.587715e+06</td>\n",
       "      <td>7.551296e+06</td>\n",
       "      <td>7.157161e+06</td>\n",
       "      <td>5.524808e+06</td>\n",
       "    </tr>\n",
       "    <tr>\n",
       "      <th>mean</th>\n",
       "      <td>2.212384e+00</td>\n",
       "      <td>3.620119e+01</td>\n",
       "      <td>-9.470255e+01</td>\n",
       "      <td>3.626183e+01</td>\n",
       "      <td>-9.572557e+01</td>\n",
       "      <td>5.618423e-01</td>\n",
       "      <td>6.166329e+01</td>\n",
       "      <td>5.825105e+01</td>\n",
       "      <td>6.483104e+01</td>\n",
       "      <td>2.953899e+01</td>\n",
       "      <td>9.090376e+00</td>\n",
       "      <td>7.685490e+00</td>\n",
       "      <td>8.407210e-03</td>\n",
       "    </tr>\n",
       "    <tr>\n",
       "      <th>std</th>\n",
       "      <td>4.875313e-01</td>\n",
       "      <td>5.076079e+00</td>\n",
       "      <td>1.739176e+01</td>\n",
       "      <td>5.272905e+00</td>\n",
       "      <td>1.810793e+01</td>\n",
       "      <td>1.776811e+00</td>\n",
       "      <td>1.901365e+01</td>\n",
       "      <td>2.238983e+01</td>\n",
       "      <td>2.282097e+01</td>\n",
       "      <td>1.006190e+00</td>\n",
       "      <td>2.688316e+00</td>\n",
       "      <td>5.424983e+00</td>\n",
       "      <td>1.102246e-01</td>\n",
       "    </tr>\n",
       "    <tr>\n",
       "      <th>min</th>\n",
       "      <td>1.000000e+00</td>\n",
       "      <td>2.455480e+01</td>\n",
       "      <td>-1.246238e+02</td>\n",
       "      <td>2.456601e+01</td>\n",
       "      <td>-1.245457e+02</td>\n",
       "      <td>0.000000e+00</td>\n",
       "      <td>-8.900000e+01</td>\n",
       "      <td>-8.900000e+01</td>\n",
       "      <td>1.000000e+00</td>\n",
       "      <td>0.000000e+00</td>\n",
       "      <td>0.000000e+00</td>\n",
       "      <td>0.000000e+00</td>\n",
       "      <td>0.000000e+00</td>\n",
       "    </tr>\n",
       "    <tr>\n",
       "      <th>25%</th>\n",
       "      <td>2.000000e+00</td>\n",
       "      <td>3.339963e+01</td>\n",
       "      <td>-1.172194e+02</td>\n",
       "      <td>3.346207e+01</td>\n",
       "      <td>-1.177543e+02</td>\n",
       "      <td>0.000000e+00</td>\n",
       "      <td>4.900000e+01</td>\n",
       "      <td>4.300000e+01</td>\n",
       "      <td>4.800000e+01</td>\n",
       "      <td>2.937000e+01</td>\n",
       "      <td>1.000000e+01</td>\n",
       "      <td>4.600000e+00</td>\n",
       "      <td>0.000000e+00</td>\n",
       "    </tr>\n",
       "    <tr>\n",
       "      <th>50%</th>\n",
       "      <td>2.000000e+00</td>\n",
       "      <td>3.582397e+01</td>\n",
       "      <td>-8.776662e+01</td>\n",
       "      <td>3.618349e+01</td>\n",
       "      <td>-8.802789e+01</td>\n",
       "      <td>3.000000e-02</td>\n",
       "      <td>6.400000e+01</td>\n",
       "      <td>6.200000e+01</td>\n",
       "      <td>6.700000e+01</td>\n",
       "      <td>2.986000e+01</td>\n",
       "      <td>1.000000e+01</td>\n",
       "      <td>7.000000e+00</td>\n",
       "      <td>0.000000e+00</td>\n",
       "    </tr>\n",
       "    <tr>\n",
       "      <th>75%</th>\n",
       "      <td>2.000000e+00</td>\n",
       "      <td>4.008496e+01</td>\n",
       "      <td>-8.035368e+01</td>\n",
       "      <td>4.017892e+01</td>\n",
       "      <td>-8.024709e+01</td>\n",
       "      <td>4.640000e-01</td>\n",
       "      <td>7.600000e+01</td>\n",
       "      <td>7.500000e+01</td>\n",
       "      <td>8.400000e+01</td>\n",
       "      <td>3.003000e+01</td>\n",
       "      <td>1.000000e+01</td>\n",
       "      <td>1.040000e+01</td>\n",
       "      <td>0.000000e+00</td>\n",
       "    </tr>\n",
       "    <tr>\n",
       "      <th>max</th>\n",
       "      <td>4.000000e+00</td>\n",
       "      <td>4.900220e+01</td>\n",
       "      <td>-6.711317e+01</td>\n",
       "      <td>4.907500e+01</td>\n",
       "      <td>-6.710924e+01</td>\n",
       "      <td>4.417500e+02</td>\n",
       "      <td>2.070000e+02</td>\n",
       "      <td>2.070000e+02</td>\n",
       "      <td>1.000000e+02</td>\n",
       "      <td>5.863000e+01</td>\n",
       "      <td>1.400000e+02</td>\n",
       "      <td>1.087000e+03</td>\n",
       "      <td>3.647000e+01</td>\n",
       "    </tr>\n",
       "  </tbody>\n",
       "</table>\n",
       "</div>"
      ],
      "text/plain": [
       "           Severity     Start_Lat     Start_Lng       End_Lat       End_Lng  \\\n",
       "count  7.728394e+06  7.728394e+06  7.728394e+06  4.325632e+06  4.325632e+06   \n",
       "mean   2.212384e+00  3.620119e+01 -9.470255e+01  3.626183e+01 -9.572557e+01   \n",
       "std    4.875313e-01  5.076079e+00  1.739176e+01  5.272905e+00  1.810793e+01   \n",
       "min    1.000000e+00  2.455480e+01 -1.246238e+02  2.456601e+01 -1.245457e+02   \n",
       "25%    2.000000e+00  3.339963e+01 -1.172194e+02  3.346207e+01 -1.177543e+02   \n",
       "50%    2.000000e+00  3.582397e+01 -8.776662e+01  3.618349e+01 -8.802789e+01   \n",
       "75%    2.000000e+00  4.008496e+01 -8.035368e+01  4.017892e+01 -8.024709e+01   \n",
       "max    4.000000e+00  4.900220e+01 -6.711317e+01  4.907500e+01 -6.710924e+01   \n",
       "\n",
       "       Distance(mi)  Temperature(F)  Wind_Chill(F)   Humidity(%)  \\\n",
       "count  7.728394e+06    7.564541e+06   5.729375e+06  7.554250e+06   \n",
       "mean   5.618423e-01    6.166329e+01   5.825105e+01  6.483104e+01   \n",
       "std    1.776811e+00    1.901365e+01   2.238983e+01  2.282097e+01   \n",
       "min    0.000000e+00   -8.900000e+01  -8.900000e+01  1.000000e+00   \n",
       "25%    0.000000e+00    4.900000e+01   4.300000e+01  4.800000e+01   \n",
       "50%    3.000000e-02    6.400000e+01   6.200000e+01  6.700000e+01   \n",
       "75%    4.640000e-01    7.600000e+01   7.500000e+01  8.400000e+01   \n",
       "max    4.417500e+02    2.070000e+02   2.070000e+02  1.000000e+02   \n",
       "\n",
       "       Pressure(in)  Visibility(mi)  Wind_Speed(mph)  Precipitation(in)  \n",
       "count  7.587715e+06    7.551296e+06     7.157161e+06       5.524808e+06  \n",
       "mean   2.953899e+01    9.090376e+00     7.685490e+00       8.407210e-03  \n",
       "std    1.006190e+00    2.688316e+00     5.424983e+00       1.102246e-01  \n",
       "min    0.000000e+00    0.000000e+00     0.000000e+00       0.000000e+00  \n",
       "25%    2.937000e+01    1.000000e+01     4.600000e+00       0.000000e+00  \n",
       "50%    2.986000e+01    1.000000e+01     7.000000e+00       0.000000e+00  \n",
       "75%    3.003000e+01    1.000000e+01     1.040000e+01       0.000000e+00  \n",
       "max    5.863000e+01    1.400000e+02     1.087000e+03       3.647000e+01  "
      ]
     },
     "execution_count": 10,
     "metadata": {},
     "output_type": "execute_result"
    }
   ],
   "source": [
    "#to calculate the aggregating statistics for the columns\n",
    "df.describe()"
   ]
  },
  {
   "cell_type": "code",
   "execution_count": 11,
   "id": "94a2bfa1",
   "metadata": {},
   "outputs": [
    {
     "data": {
      "text/plain": [
       "13"
      ]
     },
     "execution_count": 11,
     "metadata": {},
     "output_type": "execute_result"
    }
   ],
   "source": [
    "#count number of numerical coulmns\n",
    "numerics = ['int16', 'int32', 'int64', 'float16', 'float32', 'float64']\n",
    "newdf = df.select_dtypes(include=numerics)\n",
    "len(newdf.columns)"
   ]
  },
  {
   "cell_type": "code",
   "execution_count": 12,
   "id": "ed631c5d",
   "metadata": {},
   "outputs": [
    {
     "data": {
      "text/html": [
       "<div>\n",
       "<style scoped>\n",
       "    .dataframe tbody tr th:only-of-type {\n",
       "        vertical-align: middle;\n",
       "    }\n",
       "\n",
       "    .dataframe tbody tr th {\n",
       "        vertical-align: top;\n",
       "    }\n",
       "\n",
       "    .dataframe thead th {\n",
       "        text-align: right;\n",
       "    }\n",
       "</style>\n",
       "<table border=\"1\" class=\"dataframe\">\n",
       "  <thead>\n",
       "    <tr style=\"text-align: right;\">\n",
       "      <th></th>\n",
       "      <th>ID</th>\n",
       "      <th>Source</th>\n",
       "      <th>Severity</th>\n",
       "      <th>Start_Time</th>\n",
       "      <th>End_Time</th>\n",
       "      <th>Start_Lat</th>\n",
       "      <th>Start_Lng</th>\n",
       "      <th>End_Lat</th>\n",
       "      <th>End_Lng</th>\n",
       "      <th>Distance(mi)</th>\n",
       "      <th>...</th>\n",
       "      <th>Roundabout</th>\n",
       "      <th>Station</th>\n",
       "      <th>Stop</th>\n",
       "      <th>Traffic_Calming</th>\n",
       "      <th>Traffic_Signal</th>\n",
       "      <th>Turning_Loop</th>\n",
       "      <th>Sunrise_Sunset</th>\n",
       "      <th>Civil_Twilight</th>\n",
       "      <th>Nautical_Twilight</th>\n",
       "      <th>Astronomical_Twilight</th>\n",
       "    </tr>\n",
       "  </thead>\n",
       "  <tbody>\n",
       "    <tr>\n",
       "      <th>0</th>\n",
       "      <td>False</td>\n",
       "      <td>False</td>\n",
       "      <td>False</td>\n",
       "      <td>False</td>\n",
       "      <td>False</td>\n",
       "      <td>False</td>\n",
       "      <td>False</td>\n",
       "      <td>True</td>\n",
       "      <td>True</td>\n",
       "      <td>False</td>\n",
       "      <td>...</td>\n",
       "      <td>False</td>\n",
       "      <td>False</td>\n",
       "      <td>False</td>\n",
       "      <td>False</td>\n",
       "      <td>False</td>\n",
       "      <td>False</td>\n",
       "      <td>False</td>\n",
       "      <td>False</td>\n",
       "      <td>False</td>\n",
       "      <td>False</td>\n",
       "    </tr>\n",
       "    <tr>\n",
       "      <th>1</th>\n",
       "      <td>False</td>\n",
       "      <td>False</td>\n",
       "      <td>False</td>\n",
       "      <td>False</td>\n",
       "      <td>False</td>\n",
       "      <td>False</td>\n",
       "      <td>False</td>\n",
       "      <td>True</td>\n",
       "      <td>True</td>\n",
       "      <td>False</td>\n",
       "      <td>...</td>\n",
       "      <td>False</td>\n",
       "      <td>False</td>\n",
       "      <td>False</td>\n",
       "      <td>False</td>\n",
       "      <td>False</td>\n",
       "      <td>False</td>\n",
       "      <td>False</td>\n",
       "      <td>False</td>\n",
       "      <td>False</td>\n",
       "      <td>False</td>\n",
       "    </tr>\n",
       "    <tr>\n",
       "      <th>2</th>\n",
       "      <td>False</td>\n",
       "      <td>False</td>\n",
       "      <td>False</td>\n",
       "      <td>False</td>\n",
       "      <td>False</td>\n",
       "      <td>False</td>\n",
       "      <td>False</td>\n",
       "      <td>True</td>\n",
       "      <td>True</td>\n",
       "      <td>False</td>\n",
       "      <td>...</td>\n",
       "      <td>False</td>\n",
       "      <td>False</td>\n",
       "      <td>False</td>\n",
       "      <td>False</td>\n",
       "      <td>False</td>\n",
       "      <td>False</td>\n",
       "      <td>False</td>\n",
       "      <td>False</td>\n",
       "      <td>False</td>\n",
       "      <td>False</td>\n",
       "    </tr>\n",
       "    <tr>\n",
       "      <th>3</th>\n",
       "      <td>False</td>\n",
       "      <td>False</td>\n",
       "      <td>False</td>\n",
       "      <td>False</td>\n",
       "      <td>False</td>\n",
       "      <td>False</td>\n",
       "      <td>False</td>\n",
       "      <td>True</td>\n",
       "      <td>True</td>\n",
       "      <td>False</td>\n",
       "      <td>...</td>\n",
       "      <td>False</td>\n",
       "      <td>False</td>\n",
       "      <td>False</td>\n",
       "      <td>False</td>\n",
       "      <td>False</td>\n",
       "      <td>False</td>\n",
       "      <td>False</td>\n",
       "      <td>False</td>\n",
       "      <td>False</td>\n",
       "      <td>False</td>\n",
       "    </tr>\n",
       "    <tr>\n",
       "      <th>4</th>\n",
       "      <td>False</td>\n",
       "      <td>False</td>\n",
       "      <td>False</td>\n",
       "      <td>False</td>\n",
       "      <td>False</td>\n",
       "      <td>False</td>\n",
       "      <td>False</td>\n",
       "      <td>True</td>\n",
       "      <td>True</td>\n",
       "      <td>False</td>\n",
       "      <td>...</td>\n",
       "      <td>False</td>\n",
       "      <td>False</td>\n",
       "      <td>False</td>\n",
       "      <td>False</td>\n",
       "      <td>False</td>\n",
       "      <td>False</td>\n",
       "      <td>False</td>\n",
       "      <td>False</td>\n",
       "      <td>False</td>\n",
       "      <td>False</td>\n",
       "    </tr>\n",
       "    <tr>\n",
       "      <th>...</th>\n",
       "      <td>...</td>\n",
       "      <td>...</td>\n",
       "      <td>...</td>\n",
       "      <td>...</td>\n",
       "      <td>...</td>\n",
       "      <td>...</td>\n",
       "      <td>...</td>\n",
       "      <td>...</td>\n",
       "      <td>...</td>\n",
       "      <td>...</td>\n",
       "      <td>...</td>\n",
       "      <td>...</td>\n",
       "      <td>...</td>\n",
       "      <td>...</td>\n",
       "      <td>...</td>\n",
       "      <td>...</td>\n",
       "      <td>...</td>\n",
       "      <td>...</td>\n",
       "      <td>...</td>\n",
       "      <td>...</td>\n",
       "      <td>...</td>\n",
       "    </tr>\n",
       "    <tr>\n",
       "      <th>7728389</th>\n",
       "      <td>False</td>\n",
       "      <td>False</td>\n",
       "      <td>False</td>\n",
       "      <td>False</td>\n",
       "      <td>False</td>\n",
       "      <td>False</td>\n",
       "      <td>False</td>\n",
       "      <td>False</td>\n",
       "      <td>False</td>\n",
       "      <td>False</td>\n",
       "      <td>...</td>\n",
       "      <td>False</td>\n",
       "      <td>False</td>\n",
       "      <td>False</td>\n",
       "      <td>False</td>\n",
       "      <td>False</td>\n",
       "      <td>False</td>\n",
       "      <td>False</td>\n",
       "      <td>False</td>\n",
       "      <td>False</td>\n",
       "      <td>False</td>\n",
       "    </tr>\n",
       "    <tr>\n",
       "      <th>7728390</th>\n",
       "      <td>False</td>\n",
       "      <td>False</td>\n",
       "      <td>False</td>\n",
       "      <td>False</td>\n",
       "      <td>False</td>\n",
       "      <td>False</td>\n",
       "      <td>False</td>\n",
       "      <td>False</td>\n",
       "      <td>False</td>\n",
       "      <td>False</td>\n",
       "      <td>...</td>\n",
       "      <td>False</td>\n",
       "      <td>False</td>\n",
       "      <td>False</td>\n",
       "      <td>False</td>\n",
       "      <td>False</td>\n",
       "      <td>False</td>\n",
       "      <td>False</td>\n",
       "      <td>False</td>\n",
       "      <td>False</td>\n",
       "      <td>False</td>\n",
       "    </tr>\n",
       "    <tr>\n",
       "      <th>7728391</th>\n",
       "      <td>False</td>\n",
       "      <td>False</td>\n",
       "      <td>False</td>\n",
       "      <td>False</td>\n",
       "      <td>False</td>\n",
       "      <td>False</td>\n",
       "      <td>False</td>\n",
       "      <td>False</td>\n",
       "      <td>False</td>\n",
       "      <td>False</td>\n",
       "      <td>...</td>\n",
       "      <td>False</td>\n",
       "      <td>False</td>\n",
       "      <td>False</td>\n",
       "      <td>False</td>\n",
       "      <td>False</td>\n",
       "      <td>False</td>\n",
       "      <td>False</td>\n",
       "      <td>False</td>\n",
       "      <td>False</td>\n",
       "      <td>False</td>\n",
       "    </tr>\n",
       "    <tr>\n",
       "      <th>7728392</th>\n",
       "      <td>False</td>\n",
       "      <td>False</td>\n",
       "      <td>False</td>\n",
       "      <td>False</td>\n",
       "      <td>False</td>\n",
       "      <td>False</td>\n",
       "      <td>False</td>\n",
       "      <td>False</td>\n",
       "      <td>False</td>\n",
       "      <td>False</td>\n",
       "      <td>...</td>\n",
       "      <td>False</td>\n",
       "      <td>False</td>\n",
       "      <td>False</td>\n",
       "      <td>False</td>\n",
       "      <td>False</td>\n",
       "      <td>False</td>\n",
       "      <td>False</td>\n",
       "      <td>False</td>\n",
       "      <td>False</td>\n",
       "      <td>False</td>\n",
       "    </tr>\n",
       "    <tr>\n",
       "      <th>7728393</th>\n",
       "      <td>False</td>\n",
       "      <td>False</td>\n",
       "      <td>False</td>\n",
       "      <td>False</td>\n",
       "      <td>False</td>\n",
       "      <td>False</td>\n",
       "      <td>False</td>\n",
       "      <td>False</td>\n",
       "      <td>False</td>\n",
       "      <td>False</td>\n",
       "      <td>...</td>\n",
       "      <td>False</td>\n",
       "      <td>False</td>\n",
       "      <td>False</td>\n",
       "      <td>False</td>\n",
       "      <td>False</td>\n",
       "      <td>False</td>\n",
       "      <td>False</td>\n",
       "      <td>False</td>\n",
       "      <td>False</td>\n",
       "      <td>False</td>\n",
       "    </tr>\n",
       "  </tbody>\n",
       "</table>\n",
       "<p>7728394 rows × 46 columns</p>\n",
       "</div>"
      ],
      "text/plain": [
       "            ID  Source  Severity  Start_Time  End_Time  Start_Lat  Start_Lng  \\\n",
       "0        False   False     False       False     False      False      False   \n",
       "1        False   False     False       False     False      False      False   \n",
       "2        False   False     False       False     False      False      False   \n",
       "3        False   False     False       False     False      False      False   \n",
       "4        False   False     False       False     False      False      False   \n",
       "...        ...     ...       ...         ...       ...        ...        ...   \n",
       "7728389  False   False     False       False     False      False      False   \n",
       "7728390  False   False     False       False     False      False      False   \n",
       "7728391  False   False     False       False     False      False      False   \n",
       "7728392  False   False     False       False     False      False      False   \n",
       "7728393  False   False     False       False     False      False      False   \n",
       "\n",
       "         End_Lat  End_Lng  Distance(mi)  ...  Roundabout  Station   Stop  \\\n",
       "0           True     True         False  ...       False    False  False   \n",
       "1           True     True         False  ...       False    False  False   \n",
       "2           True     True         False  ...       False    False  False   \n",
       "3           True     True         False  ...       False    False  False   \n",
       "4           True     True         False  ...       False    False  False   \n",
       "...          ...      ...           ...  ...         ...      ...    ...   \n",
       "7728389    False    False         False  ...       False    False  False   \n",
       "7728390    False    False         False  ...       False    False  False   \n",
       "7728391    False    False         False  ...       False    False  False   \n",
       "7728392    False    False         False  ...       False    False  False   \n",
       "7728393    False    False         False  ...       False    False  False   \n",
       "\n",
       "         Traffic_Calming  Traffic_Signal  Turning_Loop  Sunrise_Sunset  \\\n",
       "0                  False           False         False           False   \n",
       "1                  False           False         False           False   \n",
       "2                  False           False         False           False   \n",
       "3                  False           False         False           False   \n",
       "4                  False           False         False           False   \n",
       "...                  ...             ...           ...             ...   \n",
       "7728389            False           False         False           False   \n",
       "7728390            False           False         False           False   \n",
       "7728391            False           False         False           False   \n",
       "7728392            False           False         False           False   \n",
       "7728393            False           False         False           False   \n",
       "\n",
       "         Civil_Twilight  Nautical_Twilight  Astronomical_Twilight  \n",
       "0                 False              False                  False  \n",
       "1                 False              False                  False  \n",
       "2                 False              False                  False  \n",
       "3                 False              False                  False  \n",
       "4                 False              False                  False  \n",
       "...                 ...                ...                    ...  \n",
       "7728389           False              False                  False  \n",
       "7728390           False              False                  False  \n",
       "7728391           False              False                  False  \n",
       "7728392           False              False                  False  \n",
       "7728393           False              False                  False  \n",
       "\n",
       "[7728394 rows x 46 columns]"
      ]
     },
     "execution_count": 12,
     "metadata": {},
     "output_type": "execute_result"
    }
   ],
   "source": [
    "#DATA_CLEANING find missing values\n",
    "df.isna()"
   ]
  },
  {
   "cell_type": "code",
   "execution_count": 13,
   "id": "06eee17f",
   "metadata": {},
   "outputs": [
    {
     "data": {
      "text/plain": [
       "ID                             0\n",
       "Amenity                        0\n",
       "Give_Way                       0\n",
       "Junction                       0\n",
       "No_Exit                        0\n",
       "Railway                        0\n",
       "Roundabout                     0\n",
       "Station                        0\n",
       "Stop                           0\n",
       "Traffic_Calming                0\n",
       "Traffic_Signal                 0\n",
       "Turning_Loop                   0\n",
       "Country                        0\n",
       "Bump                           0\n",
       "Crossing                       0\n",
       "County                         0\n",
       "Source                         0\n",
       "Severity                       0\n",
       "Start_Time                     0\n",
       "Distance(mi)                   0\n",
       "End_Time                       0\n",
       "State                          0\n",
       "Start_Lng                      0\n",
       "Start_Lat                      0\n",
       "Description                    5\n",
       "City                         253\n",
       "Zipcode                     1915\n",
       "Timezone                    7808\n",
       "Street                     10869\n",
       "Airport_Code               22635\n",
       "Sunrise_Sunset             23246\n",
       "Civil_Twilight             23246\n",
       "Astronomical_Twilight      23246\n",
       "Nautical_Twilight          23246\n",
       "Weather_Timestamp         120228\n",
       "Pressure(in)              140679\n",
       "Temperature(F)            163853\n",
       "Weather_Condition         173459\n",
       "Humidity(%)               174144\n",
       "Wind_Direction            175206\n",
       "Visibility(mi)            177098\n",
       "Wind_Speed(mph)           571233\n",
       "Wind_Chill(F)            1999019\n",
       "Precipitation(in)        2203586\n",
       "End_Lng                  3402762\n",
       "End_Lat                  3402762\n",
       "dtype: int64"
      ]
     },
     "execution_count": 13,
     "metadata": {},
     "output_type": "execute_result"
    }
   ],
   "source": [
    "#count of values missing per columns\n",
    "df.isna().sum().sort_values()"
   ]
  },
  {
   "cell_type": "code",
   "execution_count": 14,
   "id": "371f8219",
   "metadata": {},
   "outputs": [],
   "source": [
    "#to sort it in descending order\n",
    "df.isna().sum().sort_values(ascending = False)\n",
    "\n",
    "#percentage of missing values per columns\n",
    "missing_percentages = df.isna().sum().sort_values(ascending = False)/len(df)"
   ]
  },
  {
   "cell_type": "code",
   "execution_count": 15,
   "id": "f247416e",
   "metadata": {},
   "outputs": [
    {
     "data": {
      "text/plain": [
       "End_Lat                  4.402935e-01\n",
       "End_Lng                  4.402935e-01\n",
       "Precipitation(in)        2.851286e-01\n",
       "Wind_Chill(F)            2.586590e-01\n",
       "Wind_Speed(mph)          7.391355e-02\n",
       "Visibility(mi)           2.291524e-02\n",
       "Wind_Direction           2.267043e-02\n",
       "Humidity(%)              2.253301e-02\n",
       "Weather_Condition        2.244438e-02\n",
       "Temperature(F)           2.120143e-02\n",
       "Pressure(in)             1.820288e-02\n",
       "Weather_Timestamp        1.555666e-02\n",
       "Nautical_Twilight        3.007869e-03\n",
       "Civil_Twilight           3.007869e-03\n",
       "Sunrise_Sunset           3.007869e-03\n",
       "Astronomical_Twilight    3.007869e-03\n",
       "Airport_Code             2.928810e-03\n",
       "Street                   1.406372e-03\n",
       "Timezone                 1.010300e-03\n",
       "Zipcode                  2.477876e-04\n",
       "City                     3.273643e-05\n",
       "Description              6.469649e-07\n",
       "dtype: float64"
      ]
     },
     "execution_count": 15,
     "metadata": {},
     "output_type": "execute_result"
    }
   ],
   "source": [
    "#get the coulmns who have 0 or missing values\n",
    "missing_percentages[missing_percentages!=0]"
   ]
  },
  {
   "cell_type": "code",
   "execution_count": 16,
   "id": "b6b678cd",
   "metadata": {},
   "outputs": [
    {
     "data": {
      "text/plain": [
       "<AxesSubplot:>"
      ]
     },
     "execution_count": 16,
     "metadata": {},
     "output_type": "execute_result"
    },
    {
     "data": {
      "image/png": "[encoded data removed]",
      "text/plain": [
       "<Figure size 432x288 with 1 Axes>"
      ]
     },
     "metadata": {
      "needs_background": "light"
     },
     "output_type": "display_data"
    }
   ],
   "source": [
    "missing_percentages[missing_percentages!=0].plot(kind='barh')"
   ]
  },
  {
   "cell_type": "code",
   "execution_count": 17,
   "id": "3cf385d9",
   "metadata": {},
   "outputs": [
    {
     "data": {
      "text/plain": [
       "array(['Dayton', 'Reynoldsburg', 'Williamsburg', ..., 'Ness City',\n",
       "       'Clarksdale', 'American Fork-Pleasant Grove'], dtype=object)"
      ]
     },
     "execution_count": 17,
     "metadata": {},
     "output_type": "execute_result"
    }
   ],
   "source": [
    "cities =df.City.unique()\n",
    "cities\n"
   ]
  },
  {
   "cell_type": "code",
   "execution_count": 18,
   "id": "e1708539",
   "metadata": {},
   "outputs": [
    {
     "data": {
      "text/plain": [
       "13679"
      ]
     },
     "execution_count": 18,
     "metadata": {},
     "output_type": "execute_result"
    }
   ],
   "source": [
    "len(cities)"
   ]
  },
  {
   "cell_type": "code",
   "execution_count": null,
   "id": "c065916f",
   "metadata": {},
   "outputs": [],
   "source": []
  },
  {
   "cell_type": "code",
   "execution_count": 19,
   "id": "b3fa2624",
   "metadata": {},
   "outputs": [
    {
     "data": {
      "text/plain": [
       "Miami                           186917\n",
       "Houston                         169609\n",
       "Los Angeles                     156491\n",
       "Charlotte                       138652\n",
       "Dallas                          130939\n",
       "                                 ...  \n",
       "Benkelman                            1\n",
       "Old Appleton                         1\n",
       "Wildrose                             1\n",
       "Mc Nabb                              1\n",
       "American Fork-Pleasant Grove         1\n",
       "Name: City, Length: 13678, dtype: int64"
      ]
     },
     "execution_count": 19,
     "metadata": {},
     "output_type": "execute_result"
    }
   ],
   "source": [
    "#to get the number of cities with the count of accidents(we use value_counts() to count the number of values in a coulmns)\n",
    "cities_by_accidents = df.City.value_counts()\n",
    "cities_by_accidents"
   ]
  },
  {
   "cell_type": "code",
   "execution_count": 20,
   "id": "e9a25c6f",
   "metadata": {},
   "outputs": [
    {
     "data": {
      "text/plain": [
       "Miami            186917\n",
       "Houston          169609\n",
       "Los Angeles      156491\n",
       "Charlotte        138652\n",
       "Dallas           130939\n",
       "Orlando          109733\n",
       "Austin            97359\n",
       "Raleigh           86079\n",
       "Nashville         72930\n",
       "Baton Rouge       71588\n",
       "Atlanta           68186\n",
       "Sacramento        66264\n",
       "San Diego         55504\n",
       "Phoenix           53974\n",
       "Minneapolis       51488\n",
       "Richmond          48845\n",
       "Oklahoma City     46092\n",
       "Jacksonville      42447\n",
       "Tucson            39304\n",
       "Columbia          38178\n",
       "Name: City, dtype: int64"
      ]
     },
     "execution_count": 20,
     "metadata": {},
     "output_type": "execute_result"
    }
   ],
   "source": [
    "cities_by_accidents.head(20)"
   ]
  },
  {
   "cell_type": "code",
   "execution_count": 21,
   "id": "77d8cf53",
   "metadata": {},
   "outputs": [
    {
     "data": {
      "text/plain": [
       "0          OH\n",
       "1          OH\n",
       "2          OH\n",
       "3          OH\n",
       "4          OH\n",
       "           ..\n",
       "7728389    CA\n",
       "7728390    CA\n",
       "7728391    CA\n",
       "7728392    CA\n",
       "7728393    CA\n",
       "Name: State, Length: 7728394, dtype: object"
      ]
     },
     "execution_count": 21,
     "metadata": {},
     "output_type": "execute_result"
    }
   ],
   "source": [
    "#to check any particular columns to see the values like is it New York or NY\n",
    "df.State"
   ]
  },
  {
   "cell_type": "code",
   "execution_count": 22,
   "id": "1f7b8720",
   "metadata": {},
   "outputs": [
    {
     "data": {
      "text/plain": [
       "False"
      ]
     },
     "execution_count": 22,
     "metadata": {},
     "output_type": "execute_result"
    }
   ],
   "source": [
    "#check if a particular value exist in a coulmn\n",
    "'NY' in df.City\n",
    "\n",
    "#Though NY is the city with highest popoulation but no accidents are coming up for it because no data is present for NY"
   ]
  },
  {
   "cell_type": "code",
   "execution_count": 23,
   "id": "d0c56901",
   "metadata": {},
   "outputs": [
    {
     "data": {
      "text/plain": [
       "<AxesSubplot:>"
      ]
     },
     "execution_count": 23,
     "metadata": {},
     "output_type": "execute_result"
    },
    {
     "data": {
      "image/png": "[encoded data removed]",
      "text/plain": [
       "<Figure size 432x288 with 1 Axes>"
      ]
     },
     "metadata": {
      "needs_background": "light"
     },
     "output_type": "display_data"
    }
   ],
   "source": [
    "cities_by_accidents[:20].plot(kind = 'barh')"
   ]
  },
  {
   "cell_type": "code",
   "execution_count": 24,
   "id": "5eb9c1bd",
   "metadata": {},
   "outputs": [],
   "source": [
    "#to check the distibution of the cities\n",
    "import seaborn as sns\n",
    "sns.set_style(\"darkgrid\")\n"
   ]
  },
  {
   "cell_type": "code",
   "execution_count": 25,
   "id": "7b55a38a",
   "metadata": {},
   "outputs": [
    {
     "data": {
      "text/plain": [
       "<AxesSubplot:xlabel='City', ylabel='Count'>"
      ]
     },
     "execution_count": 25,
     "metadata": {},
     "output_type": "execute_result"
    },
    {
     "data": {
      "image/png": "[encoded data removed]",
      "text/plain": [
       "<Figure size 432x288 with 1 Axes>"
      ]
     },
     "metadata": {},
     "output_type": "display_data"
    }
   ],
   "source": [
    "sns.histplot(cities_by_accidents, log_scale=True)\n",
    "\n",
    "#here we can see that 1000 cities have 0 accidents reported so either the data is missing or only 1 or 2 accidents hav been reported"
   ]
  },
  {
   "cell_type": "code",
   "execution_count": 26,
   "id": "476d73f4",
   "metadata": {},
   "outputs": [
    {
     "data": {
      "text/plain": [
       "Lake Andes                      1\n",
       "Catoctin                        1\n",
       "Duck Hill                       1\n",
       "Westbrookville                  1\n",
       "Saint Croix                     1\n",
       "                               ..\n",
       "Benkelman                       1\n",
       "Old Appleton                    1\n",
       "Wildrose                        1\n",
       "Mc Nabb                         1\n",
       "American Fork-Pleasant Grove    1\n",
       "Name: City, Length: 1023, dtype: int64"
      ]
     },
     "execution_count": 26,
     "metadata": {},
     "output_type": "execute_result"
    }
   ],
   "source": [
    "cities_by_accidents[cities_by_accidents == 1]"
   ]
  },
  {
   "cell_type": "code",
   "execution_count": 27,
   "id": "5e614f96",
   "metadata": {},
   "outputs": [
    {
     "data": {
      "text/plain": [
       "Sublette             2\n",
       "Hunnewell            2\n",
       "Waterville Valley    2\n",
       "Dell City            2\n",
       "Jolon                2\n",
       "                    ..\n",
       "Calipatria           2\n",
       "Etlan                2\n",
       "New Bavaria          2\n",
       "Newark Valley        2\n",
       "Buckholts            2\n",
       "Name: City, Length: 722, dtype: int64"
      ]
     },
     "execution_count": 27,
     "metadata": {},
     "output_type": "execute_result"
    }
   ],
   "source": [
    "cities_by_accidents[cities_by_accidents == 2]\n",
    " \n",
    "#the number is usually high for cities having 1 or 2 accidents so to make useful conclusions its better to ignore this data"
   ]
  },
  {
   "cell_type": "code",
   "execution_count": null,
   "id": "766faa4b",
   "metadata": {},
   "outputs": [],
   "source": []
  },
  {
   "cell_type": "code",
   "execution_count": 28,
   "id": "d527d533",
   "metadata": {},
   "outputs": [],
   "source": [
    "#we will create to buckets for easy understanding of the data\n",
    "high_accident_cities = cities_by_accidents[cities_by_accidents>=1000]\n",
    "low_accident_cities = cities_by_accidents[cities_by_accidents<1000]"
   ]
  },
  {
   "cell_type": "code",
   "execution_count": 29,
   "id": "70c6a7be",
   "metadata": {},
   "outputs": [
    {
     "data": {
      "text/plain": [
       "0.08904159660793917"
      ]
     },
     "execution_count": 29,
     "metadata": {},
     "output_type": "execute_result"
    }
   ],
   "source": [
    "#to find the no of cities which have which have high accidents\n",
    "len(high_accident_cities)\n",
    "\n",
    "#percent of total\n",
    "len(high_accident_cities)/len(cities)\n",
    "\n",
    "#only 8% cities have high accident rate"
   ]
  },
  {
   "cell_type": "code",
   "execution_count": 30,
   "id": "e2a6d019",
   "metadata": {},
   "outputs": [
    {
     "data": {
      "text/plain": [
       "<AxesSubplot:xlabel='City', ylabel='Count'>"
      ]
     },
     "execution_count": 30,
     "metadata": {},
     "output_type": "execute_result"
    },
    {
     "data": {
      "image/png": "[encoded data removed]",
      "text/plain": [
       "<Figure size 432x288 with 1 Axes>"
      ]
     },
     "metadata": {},
     "output_type": "display_data"
    }
   ],
   "source": [
    "sns.histplot(high_accident_cities, log_scale=True)\n",
    "\n",
    "#graph shows the no of accidents decreasing exponentially"
   ]
  },
  {
   "cell_type": "code",
   "execution_count": 31,
   "id": "3c4a1c02",
   "metadata": {},
   "outputs": [
    {
     "data": {
      "text/plain": [
       "<AxesSubplot:xlabel='City', ylabel='Count'>"
      ]
     },
     "execution_count": 31,
     "metadata": {},
     "output_type": "execute_result"
    },
    {
     "data": {
      "image/png": "[encoded data removed]",
      "text/plain": [
       "<Figure size 432x288 with 1 Axes>"
      ]
     },
     "metadata": {},
     "output_type": "display_data"
    }
   ],
   "source": [
    "sns.histplot(low_accident_cities, log_scale=True)"
   ]
  },
  {
   "cell_type": "code",
   "execution_count": 79,
   "id": "cc4a8fbc",
   "metadata": {},
   "outputs": [
    {
     "data": {
      "text/plain": [
       "0         2016-02-08 05:46:00\n",
       "1         2016-02-08 06:07:59\n",
       "2         2016-02-08 06:49:27\n",
       "3         2016-02-08 07:23:34\n",
       "4         2016-02-08 07:39:07\n",
       "                  ...        \n",
       "7728389   2019-08-23 18:03:25\n",
       "7728390   2019-08-23 19:11:30\n",
       "7728391   2019-08-23 19:00:21\n",
       "7728392   2019-08-23 19:00:21\n",
       "7728393   2019-08-23 18:52:06\n",
       "Name: Start_Time, Length: 7728394, dtype: datetime64[ns]"
      ]
     },
     "execution_count": 79,
     "metadata": {},
     "output_type": "execute_result"
    }
   ],
   "source": [
    "df.Start_Time"
   ]
  },
  {
   "cell_type": "code",
   "execution_count": 80,
   "id": "e567e1fa",
   "metadata": {},
   "outputs": [
    {
     "data": {
      "text/plain": [
       "Timestamp('2016-02-08 05:46:00')"
      ]
     },
     "execution_count": 80,
     "metadata": {},
     "output_type": "execute_result"
    }
   ],
   "source": [
    "df.Start_Time[0]\n",
    "#general format yyyy-mm-dd and time, this is currently in string format so we will change it into date format"
   ]
  },
  {
   "cell_type": "code",
   "execution_count": 81,
   "id": "9afb0066",
   "metadata": {},
   "outputs": [
    {
     "data": {
      "text/plain": [
       "0         2016-02-08 05:46:00\n",
       "1         2016-02-08 06:07:59\n",
       "2         2016-02-08 06:49:27\n",
       "3         2016-02-08 07:23:34\n",
       "4         2016-02-08 07:39:07\n",
       "                  ...        \n",
       "7728389   2019-08-23 18:03:25\n",
       "7728390   2019-08-23 19:11:30\n",
       "7728391   2019-08-23 19:00:21\n",
       "7728392   2019-08-23 19:00:21\n",
       "7728393   2019-08-23 18:52:06\n",
       "Name: Start_Time, Length: 7728394, dtype: datetime64[ns]"
      ]
     },
     "execution_count": 81,
     "metadata": {},
     "output_type": "execute_result"
    }
   ],
   "source": [
    "pd.to_datetime(df.Start_Time)"
   ]
  },
  {
   "cell_type": "code",
   "execution_count": 82,
   "id": "beb18e90",
   "metadata": {},
   "outputs": [
    {
     "data": {
      "text/plain": [
       "0         2016-02-08 05:46:00\n",
       "1         2016-02-08 06:07:59\n",
       "2         2016-02-08 06:49:27\n",
       "3         2016-02-08 07:23:34\n",
       "4         2016-02-08 07:39:07\n",
       "                  ...        \n",
       "7728389   2019-08-23 18:03:25\n",
       "7728390   2019-08-23 19:11:30\n",
       "7728391   2019-08-23 19:00:21\n",
       "7728392   2019-08-23 19:00:21\n",
       "7728393   2019-08-23 18:52:06\n",
       "Name: Start_Time, Length: 7728394, dtype: datetime64[ns]"
      ]
     },
     "execution_count": 82,
     "metadata": {},
     "output_type": "execute_result"
    }
   ],
   "source": [
    "df.Start_Time = pd.to_datetime(df.Start_Time)\n",
    "df.Start_Time"
   ]
  },
  {
   "cell_type": "code",
   "execution_count": 83,
   "id": "71eaebb3",
   "metadata": {},
   "outputs": [
    {
     "data": {
      "text/plain": [
       "0           5\n",
       "1           6\n",
       "2           6\n",
       "3           7\n",
       "4           7\n",
       "           ..\n",
       "7728389    18\n",
       "7728390    19\n",
       "7728391    19\n",
       "7728392    19\n",
       "7728393    18\n",
       "Name: Start_Time, Length: 7728394, dtype: int64"
      ]
     },
     "execution_count": 83,
     "metadata": {},
     "output_type": "execute_result"
    }
   ],
   "source": [
    "#to know at what time of the day accidents happen(we use dt.hour to seperate hour from timestamp)\n",
    "df.Start_Time.dt.hour"
   ]
  },
  {
   "cell_type": "code",
   "execution_count": 84,
   "id": "c2e63770",
   "metadata": {},
   "outputs": [
    {
     "name": "stderr",
     "output_type": "stream",
     "text": [
      "C:\\Users\\lenovo\\anaconda3\\lib\\site-packages\\seaborn\\distributions.py:2619: FutureWarning: `distplot` is a deprecated function and will be removed in a future version. Please adapt your code to use either `displot` (a figure-level function with similar flexibility) or `histplot` (an axes-level function for histograms).\n",
      "  warnings.warn(msg, FutureWarning)\n"
     ]
    },
    {
     "data": {
      "text/plain": [
       "<AxesSubplot:xlabel='Start_Time'>"
      ]
     },
     "execution_count": 84,
     "metadata": {},
     "output_type": "execute_result"
    },
    {
     "data": {
      "image/png": "[encoded data removed]",
      "text/plain": [
       "<Figure size 432x288 with 1 Axes>"
      ]
     },
     "metadata": {},
     "output_type": "display_data"
    }
   ],
   "source": [
    "sns.distplot(df.Start_Time.dt.hour, bins = 24, kde = False, norm_hist = True)\n",
    "\n",
    "#We can see high percentage of accidents happening between 6 am - 10 am, probably people in a hurry to go to work.\n",
    "#next peak in the accidents we can see between 3 pm  to 6 pm"
   ]
  },
  {
   "cell_type": "code",
   "execution_count": 85,
   "id": "834b598c",
   "metadata": {},
   "outputs": [
    {
     "data": {
      "text/plain": [
       "0          0\n",
       "1          0\n",
       "2          0\n",
       "3          0\n",
       "4          0\n",
       "          ..\n",
       "7728389    4\n",
       "7728390    4\n",
       "7728391    4\n",
       "7728392    4\n",
       "7728393    4\n",
       "Name: Start_Time, Length: 7728394, dtype: int64"
      ]
     },
     "execution_count": 85,
     "metadata": {},
     "output_type": "execute_result"
    }
   ],
   "source": [
    "df.Start_Time.dt.dayofweek"
   ]
  },
  {
   "cell_type": "code",
   "execution_count": 86,
   "id": "f9e63731",
   "metadata": {},
   "outputs": [
    {
     "data": {
      "text/plain": [
       "<AxesSubplot:xlabel='Start_Time'>"
      ]
     },
     "execution_count": 86,
     "metadata": {},
     "output_type": "execute_result"
    },
    {
     "data": {
      "image/png": "[encoded data removed]",
      "text/plain": [
       "<Figure size 432x288 with 1 Axes>"
      ]
     },
     "metadata": {},
     "output_type": "display_data"
    }
   ],
   "source": [
    "sundays_Start_Time = df.Start_Time[df.Start_Time.dt.dayofweek == 6]\n",
    "sns.distplot(sundays_Start_Time.dt.hour, bins = 24, kde = False, norm_hist = True)\n",
    "\n",
    "# during sundays the peak of accidents happening is between 10 am - 5 pm"
   ]
  },
  {
   "cell_type": "code",
   "execution_count": 87,
   "id": "1a2df12c",
   "metadata": {},
   "outputs": [
    {
     "data": {
      "text/plain": [
       "<AxesSubplot:xlabel='Start_Time'>"
      ]
     },
     "execution_count": 87,
     "metadata": {},
     "output_type": "execute_result"
    },
    {
     "data": {
      "image/png": "[encoded data removed]",
      "text/plain": [
       "<Figure size 432x288 with 1 Axes>"
      ]
     },
     "metadata": {},
     "output_type": "display_data"
    }
   ],
   "source": [
    "monday_Start_Time = df.Start_Time[df.Start_Time.dt.dayofweek == 0]\n",
    "sns.distplot(monday_Start_Time.dt.hour, bins = 24, kde = False, norm_hist = True)"
   ]
  },
  {
   "cell_type": "code",
   "execution_count": 88,
   "id": "a3a41b41",
   "metadata": {},
   "outputs": [
    {
     "data": {
      "text/plain": [
       "<AxesSubplot:xlabel='Start_Time'>"
      ]
     },
     "execution_count": 88,
     "metadata": {},
     "output_type": "execute_result"
    },
    {
     "data": {
      "image/png": "[encoded data removed]",
      "text/plain": [
       "<Figure size 432x288 with 1 Axes>"
      ]
     },
     "metadata": {},
     "output_type": "display_data"
    }
   ],
   "source": [
    "sns.distplot(df.Start_Time.dt.month, bins = 12, kde = False, norm_hist = True)\n",
    "\n",
    "#the accidents seem to increase during the winters oct - dec and then again in jan -feb, I guess the days become short and due to day\n",
    "#light savings the accidents increase because people rush to go early and come early. It is also holiday season and people are more free and they driverashly"
   ]
  },
  {
   "cell_type": "code",
   "execution_count": 99,
   "id": "ef855c43",
   "metadata": {},
   "outputs": [
    {
     "name": "stderr",
     "output_type": "stream",
     "text": [
      "C:\\Users\\lenovo\\anaconda3\\lib\\site-packages\\seaborn\\distributions.py:2619: FutureWarning: `distplot` is a deprecated function and will be removed in a future version. Please adapt your code to use either `displot` (a figure-level function with similar flexibility) or `histplot` (an axes-level function for histograms).\n",
      "  warnings.warn(msg, FutureWarning)\n"
     ]
    },
    {
     "data": {
      "text/plain": [
       "<AxesSubplot:xlabel='Start_Time'>"
      ]
     },
     "execution_count": 99,
     "metadata": {},
     "output_type": "execute_result"
    },
    {
     "data": {
      "image/png": "[encoded data removed]",
      "text/plain": [
       "<Figure size 432x288 with 1 Axes>"
      ]
     },
     "metadata": {},
     "output_type": "display_data"
    }
   ],
   "source": [
    "#year by year analysis\n",
    "df_2019 = df[df.Start_Time.dt.year == 2019]\n",
    "sns.distplot(df_2019.Start_Time.dt.month, bins = 12, kde = False, norm_hist = True)"
   ]
  },
  {
   "cell_type": "code",
   "execution_count": 100,
   "id": "d222a710",
   "metadata": {},
   "outputs": [
    {
     "data": {
      "text/plain": [
       "<AxesSubplot:xlabel='Start_Time'>"
      ]
     },
     "execution_count": 100,
     "metadata": {},
     "output_type": "execute_result"
    },
    {
     "data": {
      "image/png": "[encoded data removed]",
      "text/plain": [
       "<Figure size 432x288 with 1 Axes>"
      ]
     },
     "metadata": {},
     "output_type": "display_data"
    }
   ],
   "source": [
    "df_2019 = df[df.Start_Time.dt.year == 2018]\n",
    "sns.distplot(df_2019.Start_Time.dt.month, bins = 12, kde = False, norm_hist = True)"
   ]
  },
  {
   "cell_type": "code",
   "execution_count": 101,
   "id": "135403d7",
   "metadata": {},
   "outputs": [
    {
     "data": {
      "text/plain": [
       "<AxesSubplot:xlabel='Start_Time'>"
      ]
     },
     "execution_count": 101,
     "metadata": {},
     "output_type": "execute_result"
    },
    {
     "data": {
      "image/png": "[encoded data removed]",
      "text/plain": [
       "<Figure size 432x288 with 1 Axes>"
      ]
     },
     "metadata": {},
     "output_type": "display_data"
    }
   ],
   "source": [
    "df_2019 = df[df.Start_Time.dt.year == 2022]\n",
    "sns.distplot(df_2019.Start_Time.dt.month, bins = 12, kde = False, norm_hist = True)"
   ]
  },
  {
   "cell_type": "code",
   "execution_count": 102,
   "id": "0f7e3894",
   "metadata": {},
   "outputs": [
    {
     "data": {
      "text/plain": [
       "<AxesSubplot:xlabel='Start_Time'>"
      ]
     },
     "execution_count": 102,
     "metadata": {},
     "output_type": "execute_result"
    },
    {
     "data": {
      "image/png": "[encoded data removed]",
      "text/plain": [
       "<Figure size 432x288 with 1 Axes>"
      ]
     },
     "metadata": {},
     "output_type": "display_data"
    }
   ],
   "source": [
    "df_2019 = df[df.Start_Time.dt.year == 2021]\n",
    "sns.distplot(df_2019.Start_Time.dt.month, bins = 12, kde = False, norm_hist = True)"
   ]
  },
  {
   "cell_type": "code",
   "execution_count": 103,
   "id": "e7320a89",
   "metadata": {},
   "outputs": [
    {
     "data": {
      "text/plain": [
       "<AxesSubplot:xlabel='Start_Time'>"
      ]
     },
     "execution_count": 103,
     "metadata": {},
     "output_type": "execute_result"
    },
    {
     "data": {
      "image/png": "[encoded data removed]",
      "text/plain": [
       "<Figure size 432x288 with 1 Axes>"
      ]
     },
     "metadata": {},
     "output_type": "display_data"
    }
   ],
   "source": [
    "df_2019 = df[df.Start_Time.dt.year == 2017]\n",
    "sns.distplot(df_2019.Start_Time.dt.month, bins = 12, kde = False, norm_hist = True)"
   ]
  },
  {
   "cell_type": "code",
   "execution_count": 104,
   "id": "badd3de9",
   "metadata": {},
   "outputs": [
    {
     "data": {
      "text/plain": [
       "<AxesSubplot:xlabel='Start_Time'>"
      ]
     },
     "execution_count": 104,
     "metadata": {},
     "output_type": "execute_result"
    },
    {
     "data": {
      "image/png": "[encoded data removed]",
      "text/plain": [
       "<Figure size 432x288 with 1 Axes>"
      ]
     },
     "metadata": {},
     "output_type": "display_data"
    }
   ],
   "source": [
    "#other year data seems balanced and for this year the data seems to be missing or may be for 2017 as well\n",
    "df_2019 = df[df.Start_Time.dt.year == 2016]\n",
    "sns.distplot(df_2019.Start_Time.dt.month, bins = 12, kde = False, norm_hist = True)"
   ]
  },
  {
   "cell_type": "code",
   "execution_count": 105,
   "id": "b8ed5371",
   "metadata": {},
   "outputs": [
    {
     "data": {
      "text/plain": [
       "<AxesSubplot:xlabel='Start_Time'>"
      ]
     },
     "execution_count": 105,
     "metadata": {},
     "output_type": "execute_result"
    },
    {
     "data": {
      "image/png": "[encoded data removed]",
      "text/plain": [
       "<Figure size 432x288 with 1 Axes>"
      ]
     },
     "metadata": {},
     "output_type": "display_data"
    }
   ],
   "source": [
    "#data is missing for 2023\n",
    "df_2019 = df[df.Start_Time.dt.year == 2023]\n",
    "sns.distplot(df_2019.Start_Time.dt.month, bins = 12, kde = False, norm_hist = True)"
   ]
  },
  {
   "cell_type": "code",
   "execution_count": 96,
   "id": "b4ad83f4",
   "metadata": {},
   "outputs": [],
   "source": [
    "df_2019 = df[df.Start_Time.dt.year == 2023]"
   ]
  },
  {
   "cell_type": "code",
   "execution_count": 97,
   "id": "23e02af2",
   "metadata": {},
   "outputs": [
    {
     "data": {
      "text/html": [
       "<div>\n",
       "<style scoped>\n",
       "    .dataframe tbody tr th:only-of-type {\n",
       "        vertical-align: middle;\n",
       "    }\n",
       "\n",
       "    .dataframe tbody tr th {\n",
       "        vertical-align: top;\n",
       "    }\n",
       "\n",
       "    .dataframe thead th {\n",
       "        text-align: right;\n",
       "    }\n",
       "</style>\n",
       "<table border=\"1\" class=\"dataframe\">\n",
       "  <thead>\n",
       "    <tr style=\"text-align: right;\">\n",
       "      <th></th>\n",
       "      <th>ID</th>\n",
       "      <th>Source</th>\n",
       "      <th>Severity</th>\n",
       "      <th>Start_Time</th>\n",
       "      <th>End_Time</th>\n",
       "      <th>Start_Lat</th>\n",
       "      <th>Start_Lng</th>\n",
       "      <th>End_Lat</th>\n",
       "      <th>End_Lng</th>\n",
       "      <th>Distance(mi)</th>\n",
       "      <th>...</th>\n",
       "      <th>Roundabout</th>\n",
       "      <th>Station</th>\n",
       "      <th>Stop</th>\n",
       "      <th>Traffic_Calming</th>\n",
       "      <th>Traffic_Signal</th>\n",
       "      <th>Turning_Loop</th>\n",
       "      <th>Sunrise_Sunset</th>\n",
       "      <th>Civil_Twilight</th>\n",
       "      <th>Nautical_Twilight</th>\n",
       "      <th>Astronomical_Twilight</th>\n",
       "    </tr>\n",
       "  </thead>\n",
       "  <tbody>\n",
       "    <tr>\n",
       "      <th>3640578</th>\n",
       "      <td>A-3650461</td>\n",
       "      <td>Source1</td>\n",
       "      <td>2</td>\n",
       "      <td>2023-03-31 17:09:16</td>\n",
       "      <td>2023-03-31 18:09:49.000000000</td>\n",
       "      <td>45.676472</td>\n",
       "      <td>-94.174568</td>\n",
       "      <td>45.666976</td>\n",
       "      <td>-94.176184</td>\n",
       "      <td>0.661</td>\n",
       "      <td>...</td>\n",
       "      <td>False</td>\n",
       "      <td>False</td>\n",
       "      <td>False</td>\n",
       "      <td>False</td>\n",
       "      <td>False</td>\n",
       "      <td>False</td>\n",
       "      <td>Day</td>\n",
       "      <td>Day</td>\n",
       "      <td>Day</td>\n",
       "      <td>Day</td>\n",
       "    </tr>\n",
       "    <tr>\n",
       "      <th>3640579</th>\n",
       "      <td>A-3650462</td>\n",
       "      <td>Source1</td>\n",
       "      <td>2</td>\n",
       "      <td>2023-02-27 20:55:00</td>\n",
       "      <td>2023-02-27 23:36:34.000000000</td>\n",
       "      <td>41.391812</td>\n",
       "      <td>-75.467365</td>\n",
       "      <td>41.398370</td>\n",
       "      <td>-75.484203</td>\n",
       "      <td>0.983</td>\n",
       "      <td>...</td>\n",
       "      <td>False</td>\n",
       "      <td>False</td>\n",
       "      <td>False</td>\n",
       "      <td>False</td>\n",
       "      <td>False</td>\n",
       "      <td>False</td>\n",
       "      <td>Night</td>\n",
       "      <td>Night</td>\n",
       "      <td>Night</td>\n",
       "      <td>Night</td>\n",
       "    </tr>\n",
       "    <tr>\n",
       "      <th>3640580</th>\n",
       "      <td>A-3650463</td>\n",
       "      <td>Source1</td>\n",
       "      <td>2</td>\n",
       "      <td>2023-02-26 09:31:45</td>\n",
       "      <td>2023-02-26 11:58:19.000000000</td>\n",
       "      <td>40.850278</td>\n",
       "      <td>-73.946140</td>\n",
       "      <td>40.846945</td>\n",
       "      <td>-73.933651</td>\n",
       "      <td>0.692</td>\n",
       "      <td>...</td>\n",
       "      <td>False</td>\n",
       "      <td>False</td>\n",
       "      <td>False</td>\n",
       "      <td>False</td>\n",
       "      <td>False</td>\n",
       "      <td>False</td>\n",
       "      <td>Day</td>\n",
       "      <td>Day</td>\n",
       "      <td>Day</td>\n",
       "      <td>Day</td>\n",
       "    </tr>\n",
       "    <tr>\n",
       "      <th>3640581</th>\n",
       "      <td>A-3650464</td>\n",
       "      <td>Source1</td>\n",
       "      <td>2</td>\n",
       "      <td>2023-03-21 17:46:42</td>\n",
       "      <td>2023-03-21 18:31:50.000000000</td>\n",
       "      <td>33.714992</td>\n",
       "      <td>-84.300188</td>\n",
       "      <td>33.714532</td>\n",
       "      <td>-84.266758</td>\n",
       "      <td>1.922</td>\n",
       "      <td>...</td>\n",
       "      <td>False</td>\n",
       "      <td>False</td>\n",
       "      <td>False</td>\n",
       "      <td>False</td>\n",
       "      <td>False</td>\n",
       "      <td>False</td>\n",
       "      <td>Day</td>\n",
       "      <td>Day</td>\n",
       "      <td>Day</td>\n",
       "      <td>Day</td>\n",
       "    </tr>\n",
       "    <tr>\n",
       "      <th>3640582</th>\n",
       "      <td>A-3650465</td>\n",
       "      <td>Source1</td>\n",
       "      <td>2</td>\n",
       "      <td>2023-03-24 04:46:30</td>\n",
       "      <td>2023-03-24 09:22:00.000000000</td>\n",
       "      <td>33.927671</td>\n",
       "      <td>-118.266385</td>\n",
       "      <td>33.929608</td>\n",
       "      <td>-118.343065</td>\n",
       "      <td>4.398</td>\n",
       "      <td>...</td>\n",
       "      <td>False</td>\n",
       "      <td>False</td>\n",
       "      <td>False</td>\n",
       "      <td>False</td>\n",
       "      <td>False</td>\n",
       "      <td>False</td>\n",
       "      <td>Night</td>\n",
       "      <td>Night</td>\n",
       "      <td>Night</td>\n",
       "      <td>Night</td>\n",
       "    </tr>\n",
       "    <tr>\n",
       "      <th>...</th>\n",
       "      <td>...</td>\n",
       "      <td>...</td>\n",
       "      <td>...</td>\n",
       "      <td>...</td>\n",
       "      <td>...</td>\n",
       "      <td>...</td>\n",
       "      <td>...</td>\n",
       "      <td>...</td>\n",
       "      <td>...</td>\n",
       "      <td>...</td>\n",
       "      <td>...</td>\n",
       "      <td>...</td>\n",
       "      <td>...</td>\n",
       "      <td>...</td>\n",
       "      <td>...</td>\n",
       "      <td>...</td>\n",
       "      <td>...</td>\n",
       "      <td>...</td>\n",
       "      <td>...</td>\n",
       "      <td>...</td>\n",
       "      <td>...</td>\n",
       "    </tr>\n",
       "    <tr>\n",
       "      <th>5423453</th>\n",
       "      <td>A-5464675</td>\n",
       "      <td>Source1</td>\n",
       "      <td>2</td>\n",
       "      <td>2023-01-19 14:52:14</td>\n",
       "      <td>2023-01-19 16:07:14.000000000</td>\n",
       "      <td>29.697432</td>\n",
       "      <td>-95.423674</td>\n",
       "      <td>29.697499</td>\n",
       "      <td>-95.425230</td>\n",
       "      <td>0.094</td>\n",
       "      <td>...</td>\n",
       "      <td>False</td>\n",
       "      <td>True</td>\n",
       "      <td>True</td>\n",
       "      <td>False</td>\n",
       "      <td>False</td>\n",
       "      <td>False</td>\n",
       "      <td>Day</td>\n",
       "      <td>Day</td>\n",
       "      <td>Day</td>\n",
       "      <td>Day</td>\n",
       "    </tr>\n",
       "    <tr>\n",
       "      <th>5423458</th>\n",
       "      <td>A-5464680</td>\n",
       "      <td>Source1</td>\n",
       "      <td>2</td>\n",
       "      <td>2023-02-20 15:20:00</td>\n",
       "      <td>2023-02-20 15:52:00.000000000</td>\n",
       "      <td>33.869027</td>\n",
       "      <td>-84.366612</td>\n",
       "      <td>33.853174</td>\n",
       "      <td>-84.370037</td>\n",
       "      <td>1.113</td>\n",
       "      <td>...</td>\n",
       "      <td>False</td>\n",
       "      <td>False</td>\n",
       "      <td>False</td>\n",
       "      <td>False</td>\n",
       "      <td>False</td>\n",
       "      <td>False</td>\n",
       "      <td>Day</td>\n",
       "      <td>Day</td>\n",
       "      <td>Day</td>\n",
       "      <td>Day</td>\n",
       "    </tr>\n",
       "    <tr>\n",
       "      <th>5423460</th>\n",
       "      <td>A-5464682</td>\n",
       "      <td>Source1</td>\n",
       "      <td>2</td>\n",
       "      <td>2023-01-25 04:53:15</td>\n",
       "      <td>2023-01-25 06:11:02.000000000</td>\n",
       "      <td>39.603673</td>\n",
       "      <td>-86.069712</td>\n",
       "      <td>39.609702</td>\n",
       "      <td>-86.072118</td>\n",
       "      <td>0.436</td>\n",
       "      <td>...</td>\n",
       "      <td>False</td>\n",
       "      <td>False</td>\n",
       "      <td>False</td>\n",
       "      <td>False</td>\n",
       "      <td>False</td>\n",
       "      <td>False</td>\n",
       "      <td>Night</td>\n",
       "      <td>Night</td>\n",
       "      <td>Night</td>\n",
       "      <td>Night</td>\n",
       "    </tr>\n",
       "    <tr>\n",
       "      <th>5423490</th>\n",
       "      <td>A-5464712</td>\n",
       "      <td>Source1</td>\n",
       "      <td>2</td>\n",
       "      <td>2023-01-24 10:23:26</td>\n",
       "      <td>2023-01-24 11:38:26.000000000</td>\n",
       "      <td>32.917276</td>\n",
       "      <td>-96.717765</td>\n",
       "      <td>32.916783</td>\n",
       "      <td>-96.717758</td>\n",
       "      <td>0.034</td>\n",
       "      <td>...</td>\n",
       "      <td>False</td>\n",
       "      <td>False</td>\n",
       "      <td>False</td>\n",
       "      <td>False</td>\n",
       "      <td>False</td>\n",
       "      <td>False</td>\n",
       "      <td>Day</td>\n",
       "      <td>Day</td>\n",
       "      <td>Day</td>\n",
       "      <td>Day</td>\n",
       "    </tr>\n",
       "    <tr>\n",
       "      <th>5423491</th>\n",
       "      <td>A-5464713</td>\n",
       "      <td>Source1</td>\n",
       "      <td>2</td>\n",
       "      <td>2023-01-19 00:45:23</td>\n",
       "      <td>2023-01-19 02:00:23.000000000</td>\n",
       "      <td>32.915539</td>\n",
       "      <td>-96.717765</td>\n",
       "      <td>32.914593</td>\n",
       "      <td>-96.717774</td>\n",
       "      <td>0.065</td>\n",
       "      <td>...</td>\n",
       "      <td>False</td>\n",
       "      <td>False</td>\n",
       "      <td>False</td>\n",
       "      <td>False</td>\n",
       "      <td>False</td>\n",
       "      <td>False</td>\n",
       "      <td>Night</td>\n",
       "      <td>Night</td>\n",
       "      <td>Night</td>\n",
       "      <td>Night</td>\n",
       "    </tr>\n",
       "  </tbody>\n",
       "</table>\n",
       "<p>246633 rows × 46 columns</p>\n",
       "</div>"
      ],
      "text/plain": [
       "                ID   Source  Severity          Start_Time  \\\n",
       "3640578  A-3650461  Source1         2 2023-03-31 17:09:16   \n",
       "3640579  A-3650462  Source1         2 2023-02-27 20:55:00   \n",
       "3640580  A-3650463  Source1         2 2023-02-26 09:31:45   \n",
       "3640581  A-3650464  Source1         2 2023-03-21 17:46:42   \n",
       "3640582  A-3650465  Source1         2 2023-03-24 04:46:30   \n",
       "...            ...      ...       ...                 ...   \n",
       "5423453  A-5464675  Source1         2 2023-01-19 14:52:14   \n",
       "5423458  A-5464680  Source1         2 2023-02-20 15:20:00   \n",
       "5423460  A-5464682  Source1         2 2023-01-25 04:53:15   \n",
       "5423490  A-5464712  Source1         2 2023-01-24 10:23:26   \n",
       "5423491  A-5464713  Source1         2 2023-01-19 00:45:23   \n",
       "\n",
       "                              End_Time  Start_Lat   Start_Lng    End_Lat  \\\n",
       "3640578  2023-03-31 18:09:49.000000000  45.676472  -94.174568  45.666976   \n",
       "3640579  2023-02-27 23:36:34.000000000  41.391812  -75.467365  41.398370   \n",
       "3640580  2023-02-26 11:58:19.000000000  40.850278  -73.946140  40.846945   \n",
       "3640581  2023-03-21 18:31:50.000000000  33.714992  -84.300188  33.714532   \n",
       "3640582  2023-03-24 09:22:00.000000000  33.927671 -118.266385  33.929608   \n",
       "...                                ...        ...         ...        ...   \n",
       "5423453  2023-01-19 16:07:14.000000000  29.697432  -95.423674  29.697499   \n",
       "5423458  2023-02-20 15:52:00.000000000  33.869027  -84.366612  33.853174   \n",
       "5423460  2023-01-25 06:11:02.000000000  39.603673  -86.069712  39.609702   \n",
       "5423490  2023-01-24 11:38:26.000000000  32.917276  -96.717765  32.916783   \n",
       "5423491  2023-01-19 02:00:23.000000000  32.915539  -96.717765  32.914593   \n",
       "\n",
       "            End_Lng  Distance(mi)  ... Roundabout Station   Stop  \\\n",
       "3640578  -94.176184         0.661  ...      False   False  False   \n",
       "3640579  -75.484203         0.983  ...      False   False  False   \n",
       "3640580  -73.933651         0.692  ...      False   False  False   \n",
       "3640581  -84.266758         1.922  ...      False   False  False   \n",
       "3640582 -118.343065         4.398  ...      False   False  False   \n",
       "...             ...           ...  ...        ...     ...    ...   \n",
       "5423453  -95.425230         0.094  ...      False    True   True   \n",
       "5423458  -84.370037         1.113  ...      False   False  False   \n",
       "5423460  -86.072118         0.436  ...      False   False  False   \n",
       "5423490  -96.717758         0.034  ...      False   False  False   \n",
       "5423491  -96.717774         0.065  ...      False   False  False   \n",
       "\n",
       "        Traffic_Calming Traffic_Signal Turning_Loop Sunrise_Sunset  \\\n",
       "3640578           False          False        False            Day   \n",
       "3640579           False          False        False          Night   \n",
       "3640580           False          False        False            Day   \n",
       "3640581           False          False        False            Day   \n",
       "3640582           False          False        False          Night   \n",
       "...                 ...            ...          ...            ...   \n",
       "5423453           False          False        False            Day   \n",
       "5423458           False          False        False            Day   \n",
       "5423460           False          False        False          Night   \n",
       "5423490           False          False        False            Day   \n",
       "5423491           False          False        False          Night   \n",
       "\n",
       "        Civil_Twilight Nautical_Twilight Astronomical_Twilight  \n",
       "3640578            Day               Day                   Day  \n",
       "3640579          Night             Night                 Night  \n",
       "3640580            Day               Day                   Day  \n",
       "3640581            Day               Day                   Day  \n",
       "3640582          Night             Night                 Night  \n",
       "...                ...               ...                   ...  \n",
       "5423453            Day               Day                   Day  \n",
       "5423458            Day               Day                   Day  \n",
       "5423460          Night             Night                 Night  \n",
       "5423490            Day               Day                   Day  \n",
       "5423491          Night             Night                 Night  \n",
       "\n",
       "[246633 rows x 46 columns]"
      ]
     },
     "execution_count": 97,
     "metadata": {},
     "output_type": "execute_result"
    }
   ],
   "source": [
    "df_2019"
   ]
  },
  {
   "cell_type": "code",
   "execution_count": 98,
   "id": "c87a3b27",
   "metadata": {},
   "outputs": [
    {
     "data": {
      "text/plain": [
       "0          Source2\n",
       "1          Source2\n",
       "2          Source2\n",
       "3          Source2\n",
       "4          Source2\n",
       "            ...   \n",
       "7728389    Source1\n",
       "7728390    Source1\n",
       "7728391    Source1\n",
       "7728392    Source1\n",
       "7728393    Source1\n",
       "Name: Source, Length: 7728394, dtype: object"
      ]
     },
     "execution_count": 98,
     "metadata": {},
     "output_type": "execute_result"
    }
   ],
   "source": [
    "df.Source"
   ]
  },
  {
   "cell_type": "code",
   "execution_count": 111,
   "id": "d531c1d3",
   "metadata": {},
   "outputs": [
    {
     "data": {
      "text/plain": [
       "<AxesSubplot:xlabel='Start_Time'>"
      ]
     },
     "execution_count": 111,
     "metadata": {},
     "output_type": "execute_result"
    },
    {
     "data": {
      "image/png": "[encoded data removed]",
      "text/plain": [
       "<Figure size 432x288 with 1 Axes>"
      ]
     },
     "metadata": {},
     "output_type": "display_data"
    }
   ],
   "source": [
    "df_2019 = df[df.Start_Time.dt.year == 2019]\n",
    "df_2019_Source1 = df_2019[df_2019.Source == 'Source1']\n",
    "sns.distplot(df_2019_Source1.Start_Time.dt.month, bins = 12, kde = False, norm_hist = True)"
   ]
  },
  {
   "cell_type": "code",
   "execution_count": 112,
   "id": "634442da",
   "metadata": {},
   "outputs": [
    {
     "data": {
      "text/plain": [
       "<AxesSubplot:xlabel='Start_Time'>"
      ]
     },
     "execution_count": 112,
     "metadata": {},
     "output_type": "execute_result"
    },
    {
     "data": {
      "image/png": "[encoded data removed]",
      "text/plain": [
       "<Figure size 432x288 with 1 Axes>"
      ]
     },
     "metadata": {},
     "output_type": "display_data"
    }
   ],
   "source": [
    "df_2019 = df[df.Start_Time.dt.year == 2019]\n",
    "df_2019_Source2 = df_2019[df_2019.Source == 'Source2']\n",
    "sns.distplot(df_2019_Source2.Start_Time.dt.month, bins = 12, kde = False, norm_hist = True)"
   ]
  },
  {
   "cell_type": "code",
   "execution_count": 109,
   "id": "c4bee5af",
   "metadata": {},
   "outputs": [
    {
     "data": {
      "text/plain": [
       "array(['Source2', 'Source3', 'Source1'], dtype=object)"
      ]
     },
     "execution_count": 109,
     "metadata": {},
     "output_type": "execute_result"
    }
   ],
   "source": [
    "a = df['Source'].unique()\n",
    "a"
   ]
  },
  {
   "cell_type": "code",
   "execution_count": 114,
   "id": "dfba3949",
   "metadata": {},
   "outputs": [
    {
     "data": {
      "text/plain": [
       "<AxesSubplot:xlabel='Start_Time'>"
      ]
     },
     "execution_count": 114,
     "metadata": {},
     "output_type": "execute_result"
    },
    {
     "data": {
      "image/png": "[encoded data removed]",
      "text/plain": [
       "<Figure size 432x288 with 1 Axes>"
      ]
     },
     "metadata": {},
     "output_type": "display_data"
    }
   ],
   "source": [
    "df_2019 = df[df.Start_Time.dt.year == 2019]\n",
    "df_2019_Source3 = df_2019[df_2019.Source == 'Source3']\n",
    "sns.distplot(df_2019_Source3.Start_Time.dt.month, bins = 12, kde = False, norm_hist = True)"
   ]
  },
  {
   "cell_type": "code",
   "execution_count": null,
   "id": "b091e87f",
   "metadata": {},
   "outputs": [],
   "source": [
    "#There seems to be data missing from source1 and source 3, because the data from source 2 is much balanced comparatively"
   ]
  },
  {
   "cell_type": "code",
   "execution_count": 116,
   "id": "6d20edfe",
   "metadata": {},
   "outputs": [
    {
     "data": {
      "text/plain": [
       "<AxesSubplot:ylabel='Source'>"
      ]
     },
     "execution_count": 116,
     "metadata": {},
     "output_type": "execute_result"
    },
    {
     "data": {
      "image/png": "[encoded data removed]",
      "text/plain": [
       "<Figure size 432x288 with 1 Axes>"
      ]
     },
     "metadata": {},
     "output_type": "display_data"
    }
   ],
   "source": [
    "df.Source.value_counts().plot(kind = 'pie')"
   ]
  },
  {
   "cell_type": "code",
   "execution_count": null,
   "id": "f7697c27",
   "metadata": {},
   "outputs": [],
   "source": [
    "#Exluding data from source 1 as it had missing vlaues"
   ]
  },
  {
   "cell_type": "code",
   "execution_count": 131,
   "id": "132e8025",
   "metadata": {},
   "outputs": [
    {
     "data": {
      "text/plain": [
       "0          39.865147\n",
       "1          39.928059\n",
       "2          39.063148\n",
       "3          39.747753\n",
       "4          39.627781\n",
       "             ...    \n",
       "7728389    34.002480\n",
       "7728390    32.766960\n",
       "7728391    33.775450\n",
       "7728392    33.992460\n",
       "7728393    34.133930\n",
       "Name: Start_Lat, Length: 7728394, dtype: float64"
      ]
     },
     "execution_count": 131,
     "metadata": {},
     "output_type": "execute_result"
    }
   ],
   "source": [
    "# now using other coulmmns\n",
    "df.Start_Lat "
   ]
  },
  {
   "cell_type": "code",
   "execution_count": 132,
   "id": "29385ec3",
   "metadata": {},
   "outputs": [
    {
     "data": {
      "text/plain": [
       "0          -84.058723\n",
       "1          -82.831184\n",
       "2          -84.032608\n",
       "3          -84.205582\n",
       "4          -84.188354\n",
       "              ...    \n",
       "7728389   -117.379360\n",
       "7728390   -117.148060\n",
       "7728391   -117.847790\n",
       "7728392   -118.403020\n",
       "7728393   -117.230920\n",
       "Name: Start_Lng, Length: 7728394, dtype: float64"
      ]
     },
     "execution_count": 132,
     "metadata": {},
     "output_type": "execute_result"
    }
   ],
   "source": [
    "df.Start_Lng "
   ]
  },
  {
   "cell_type": "code",
   "execution_count": 1,
   "id": "4da4849b",
   "metadata": {},
   "outputs": [
    {
     "ename": "NameError",
     "evalue": "name 'sns' is not defined",
     "output_type": "error",
     "traceback": [
      "\u001b[1;31m---------------------------------------------------------------------------\u001b[0m",
      "\u001b[1;31mNameError\u001b[0m                                 Traceback (most recent call last)",
      "Input \u001b[1;32mIn [1]\u001b[0m, in \u001b[0;36m<cell line: 1>\u001b[1;34m()\u001b[0m\n\u001b[1;32m----> 1\u001b[0m \u001b[43msns\u001b[49m\u001b[38;5;241m.\u001b[39mscatterplot(x \u001b[38;5;241m=\u001b[39m df\u001b[38;5;241m.\u001b[39mStart_Lng , y \u001b[38;5;241m=\u001b[39m df\u001b[38;5;241m.\u001b[39mStart_Lat, size \u001b[38;5;241m=\u001b[39m \u001b[38;5;241m0.001\u001b[39m)\n",
      "\u001b[1;31mNameError\u001b[0m: name 'sns' is not defined"
     ]
    }
   ],
   "source": [
    "sns.scatterplot(x = df.Start_Lng , y = df.Start_Lat, size = 0.001)"
   ]
  },
  {
   "cell_type": "code",
   "execution_count": 134,
   "id": "e4e5f7f5",
   "metadata": {},
   "outputs": [],
   "source": [
    "sample_df = df.sample(int(0.1 * len(df)))"
   ]
  },
  {
   "cell_type": "code",
   "execution_count": 135,
   "id": "a55388dc",
   "metadata": {},
   "outputs": [
    {
     "data": {
      "text/plain": [
       "<AxesSubplot:xlabel='Start_Lng', ylabel='Start_Lng'>"
      ]
     },
     "execution_count": 135,
     "metadata": {},
     "output_type": "execute_result"
    },
    {
     "data": {
      "image/png": "[encoded data removed]",
      "text/plain": [
       "<Figure size 432x288 with 1 Axes>"
      ]
     },
     "metadata": {},
     "output_type": "display_data"
    }
   ],
   "source": [
    "sns.scatterplot(x = sample_df.Start_Lng , y = sample_df.Start_Lng, size = 0.001)"
   ]
  },
  {
   "cell_type": "code",
   "execution_count": 136,
   "id": "6ce32764",
   "metadata": {},
   "outputs": [
    {
     "data": {
      "image/png": "[encoded data removed]",
      "text/plain": [
       "<Figure size 432x288 with 1 Axes>"
      ]
     },
     "metadata": {},
     "output_type": "display_data"
    }
   ],
   "source": []
  },
  {
   "cell_type": "code",
   "execution_count": 137,
   "id": "a37811c3",
   "metadata": {},
   "outputs": [
    {
     "data": {
      "text/plain": [
       "[(-84.058723, 39.865147),\n",
       " (-82.831184, 39.92805900000001),\n",
       " (-84.032608, 39.063148),\n",
       " (-84.20558199999998, 39.747753),\n",
       " (-84.188354, 39.627781),\n",
       " (-82.92519399999998, 40.10059),\n",
       " (-84.23050699999997, 39.758274),\n",
       " (-84.194901, 39.770382),\n",
       " (-84.172005, 39.778061),\n",
       " (-82.92519399999998, 40.10059),\n",
       " (-83.119293, 39.952812),\n",
       " (-82.83091, 39.932709),\n",
       " (-84.14993299999998, 39.737633),\n",
       " (-84.241547, 39.79076),\n",
       " (-82.913521, 39.972038),\n",
       " (-84.17041, 39.745888),\n",
       " (-84.224007, 39.748329),\n",
       " (-84.239952, 39.752174),\n",
       " (-84.184135, 39.740669),\n",
       " (-84.244461, 39.790703),\n",
       " (-82.88233199999998, 40.052509),\n",
       " (-84.224686, 39.773346),\n",
       " (-84.226151, 39.628288),\n",
       " (-82.994888, 40.023487),\n",
       " (-84.25921600000002, 39.761379),\n",
       " (-82.641762, 40.158024),\n",
       " (-84.159653, 39.733219),\n",
       " (-84.200523, 39.775303),\n",
       " (-84.23910500000002, 39.789322),\n",
       " (-84.183762, 39.75872),\n",
       " (-83.122398, 40.081459),\n",
       " (-84.112946, 39.83321),\n",
       " (-82.99730699999998, 40.042725),\n",
       " (-82.848854, 39.974415),\n",
       " (-83.02449, 39.994766),\n",
       " (-83.030991, 40.006477),\n",
       " (-84.186996, 39.742062),\n",
       " (-82.78157, 39.843521),\n",
       " (-84.178688, 39.782578),\n",
       " (-82.912155, 40.007626),\n",
       " (-84.19120799999997, 39.447502),\n",
       " (-84.173439, 39.787731),\n",
       " (-83.624611, 39.426277),\n",
       " (-82.852554, 39.978306),\n",
       " (-84.18960600000003, 39.84182),\n",
       " (-82.958954, 39.953625),\n",
       " (-83.049644, 40.053082),\n",
       " (-82.878723, 39.936874),\n",
       " (-84.16349, 39.780643),\n",
       " (-84.187454, 39.773193),\n",
       " (-84.20468100000002, 39.77858),\n",
       " (-84.20607, 39.792988),\n",
       " (-84.194901, 39.770382),\n",
       " (-83.119225, 39.976398),\n",
       " (-84.23136099999998, 39.6395),\n",
       " (-84.159286, 39.232578),\n",
       " (-84.23912, 39.746593),\n",
       " (-84.182472, 39.742783),\n",
       " (-84.159279, 39.75452),\n",
       " (-84.139359, 39.749916),\n",
       " (-82.98410799999998, 40.100903),\n",
       " (-84.201851, 39.77280800000001),\n",
       " (-84.131798, 39.492485),\n",
       " (-84.251724, 39.570904),\n",
       " (-82.74382, 39.834282),\n",
       " (-84.229858, 39.622787),\n",
       " (-84.079666, 39.429871),\n",
       " (-81.64676700000003, 41.407391),\n",
       " (-81.57867399999998, 41.424404),\n",
       " (-83.039169, 39.89217),\n",
       " (-83.650345, 41.022358),\n",
       " (-84.053253, 39.206806),\n",
       " (-83.022285, 39.973797),\n",
       " (-82.86421999999997, 40.048008),\n",
       " (-84.021744, 39.814526),\n",
       " (-84.22003199999997, 40.151196),\n",
       " (-82.844238, 39.954617),\n",
       " (-84.207497, 38.990551),\n",
       " (-83.002678, 40.008995),\n",
       " (-84.225014, 39.077332),\n",
       " (-82.795845, 39.955452),\n",
       " (-82.929085, 40.224586),\n",
       " (-83.119225, 39.976398),\n",
       " (-82.939247, 39.98560300000001),\n",
       " (-81.61314399999998, 41.040714),\n",
       " (-81.579002, 41.083679),\n",
       " (-82.42411, 40.766891),\n",
       " (-81.843018, 41.422199),\n",
       " (-81.57294499999998, 41.063995),\n",
       " (-84.20558199999998, 39.747753),\n",
       " (-84.142021, 38.99408),\n",
       " (-81.694008, 41.420818),\n",
       " (-83.030197, 40.030342),\n",
       " (-82.827904, 39.858089),\n",
       " (-81.60992399999998, 41.112324),\n",
       " (-82.729416, 39.994061),\n",
       " (-81.81926700000002, 41.355396),\n",
       " (-84.23796800000002, 39.687389),\n",
       " (-84.214325, 39.751038),\n",
       " (-84.139359, 39.749916),\n",
       " (-82.88460500000002, 39.97509),\n",
       " (-83.016663, 40.11195),\n",
       " (-81.57914, 41.424313),\n",
       " (-84.211166, 39.691864),\n",
       " (-84.20728299999998, 39.769173),\n",
       " (-84.159279, 39.75452),\n",
       " (-83.003937, 39.874947),\n",
       " (-84.176964, 39.769596),\n",
       " (-84.23026999999998, 39.776417),\n",
       " (-84.227455, 39.64185),\n",
       " (-84.196434, 39.76028400000001),\n",
       " (-84.220093, 39.802528),\n",
       " (-84.19839499999998, 39.828781),\n",
       " (-84.180359, 39.733337),\n",
       " (-84.138367, 39.759426),\n",
       " (-84.227531, 39.78361500000001),\n",
       " (-84.194923, 39.74004),\n",
       " (-84.204948, 39.735199),\n",
       " (-84.20474200000002, 39.749035),\n",
       " (-82.984131, 39.969223),\n",
       " (-82.985085, 39.995369),\n",
       " (-84.205025, 39.744873),\n",
       " (-84.199493, 39.749786),\n",
       " (-84.195076, 39.780331),\n",
       " (-82.97820300000002, 40.109928),\n",
       " (-83.016663, 40.11195),\n",
       " (-83.035072, 40.112156),\n",
       " (-82.933449, 39.871761),\n",
       " (-82.86065699999997, 39.934517),\n",
       " (-82.99479699999998, 40.02404),\n",
       " (-81.932777, 41.014015),\n",
       " (-82.528145, 40.575069),\n",
       " (-84.21680500000002, 39.996578),\n",
       " (-82.985458, 39.986324),\n",
       " (-82.90213, 40.013062),\n",
       " (-82.98436, 39.981709),\n",
       " (-82.99889399999998, 39.953022),\n",
       " (-82.983162, 39.973812),\n",
       " (-82.852554, 39.978306),\n",
       " (-83.014236, 39.917412),\n",
       " (-83.712799, 39.469582),\n",
       " (-84.234818, 39.63958),\n",
       " (-82.996307, 39.975986),\n",
       " (-83.040161, 39.951401),\n",
       " (-83.022263, 39.96888),\n",
       " (-84.178917, 39.804295),\n",
       " (-84.097267, 39.831444),\n",
       " (-83.03538499999998, 39.890587),\n",
       " (-84.183914, 39.770977),\n",
       " (-84.173477, 39.808121),\n",
       " (-81.725853, 41.410461),\n",
       " (-84.20558199999998, 39.747753),\n",
       " (-84.23136099999998, 39.6395),\n",
       " (-82.88744399999999, 39.94537),\n",
       " (-84.24479699999998, 39.79813),\n",
       " (-82.89576, 40.081715),\n",
       " (-81.550728, 41.111031),\n",
       " (-82.937119, 40.082016),\n",
       " (-84.15535, 39.763363),\n",
       " (-84.191833, 39.740063),\n",
       " (-82.625221, 39.99876),\n",
       " (-84.191833, 39.740063),\n",
       " (-82.86859100000002, 39.99519),\n",
       " (-81.935562, 41.395805),\n",
       " (-82.883263, 39.887058),\n",
       " (-83.141228, 39.824703),\n",
       " (-82.790749, 40.977516),\n",
       " (-83.016663, 40.11195),\n",
       " (-81.631393, 41.150993),\n",
       " (-83.141228, 39.824703),\n",
       " (-82.806198, 39.885872),\n",
       " (-83.016663, 40.11195),\n",
       " (-83.134499, 40.09917100000001),\n",
       " (-83.109131, 40.012829),\n",
       " (-82.945183, 40.048183),\n",
       " (-84.246872, 39.77792),\n",
       " (-83.014236, 39.917412),\n",
       " (-81.810959, 41.313236),\n",
       " (-84.043655, 39.691998),\n",
       " (-82.93860600000002, 39.852417),\n",
       " (-83.044914, 39.956909),\n",
       " (-82.951836, 39.602947),\n",
       " (-83.087547, 39.89188400000001),\n",
       " (-84.210564, 39.78508400000001),\n",
       " (-82.977524, 40.1105),\n",
       " (-82.50975, 40.757088),\n",
       " (-81.57294499999998, 41.063995),\n",
       " (-82.867638, 40.004749),\n",
       " (-83.000862, 40.033955),\n",
       " (-83.495262, 38.929512),\n",
       " (-83.081558, 39.973419),\n",
       " (-84.255135, 39.797958),\n",
       " (-82.903717, 40.057369),\n",
       " (-82.848274, 39.847927),\n",
       " (-83.03280600000002, 40.051949),\n",
       " (-83.03280600000002, 40.051949),\n",
       " (-84.135612, 39.772823),\n",
       " (-84.221886, 39.673203),\n",
       " (-84.20506999999998, 39.76244000000001),\n",
       " (-84.169342, 39.79166),\n",
       " (-84.13549, 39.72757),\n",
       " (-83.134499, 40.09917100000001),\n",
       " (-81.93562299999998, 38.455898),\n",
       " (-84.177193, 39.764778),\n",
       " (-82.903442, 40.016014),\n",
       " (-83.911812, 39.686901),\n",
       " (-84.214638, 39.74403),\n",
       " (-83.002953, 39.955738),\n",
       " (-84.052551, 38.98587),\n",
       " (-81.652626, 41.12336),\n",
       " (-82.13942, 41.403664),\n",
       " (-84.21461500000002, 39.719009),\n",
       " (-81.57294499999998, 41.063995),\n",
       " (-84.209923, 39.741764),\n",
       " (-82.78944399999997, 39.933804),\n",
       " (-84.221886, 39.673203),\n",
       " (-84.043739, 38.997852),\n",
       " (-82.87745699999998, 40.080402),\n",
       " (-81.608711, 41.04023),\n",
       " (-84.201012, 39.749664),\n",
       " (-84.139359, 39.749916),\n",
       " (-81.631744, 41.039204),\n",
       " (-82.03600300000002, 40.993484),\n",
       " (-81.64676700000003, 41.407391),\n",
       " (-84.224243, 39.732441),\n",
       " (-84.187454, 39.773193),\n",
       " (-84.215195, 39.792931),\n",
       " (-82.047081, 39.948299),\n",
       " (-84.216522, 39.67263),\n",
       " (-83.64917, 41.172302),\n",
       " (-84.22731800000003, 39.615208),\n",
       " (-84.25140400000002, 39.790604),\n",
       " (-83.003754, 39.968788),\n",
       " (-82.968689, 39.905334),\n",
       " (-84.183678, 39.855103),\n",
       " (-81.632141, 41.414131),\n",
       " (-82.78944399999997, 39.933804),\n",
       " (-81.57294499999998, 41.063995),\n",
       " (-83.303154, 39.75782),\n",
       " (-81.734482, 41.42181),\n",
       " (-81.843018, 41.422199),\n",
       " (-84.189087, 39.819839),\n",
       " (-84.120644, 39.745735),\n",
       " (-82.867638, 40.004749),\n",
       " (-84.20768699999998, 39.626396),\n",
       " (-84.15855400000002, 39.761005),\n",
       " (-84.155914, 39.765377),\n",
       " (-82.936317, 39.936871),\n",
       " (-81.81644399999998, 41.420666),\n",
       " (-84.15598299999998, 39.607605),\n",
       " (-84.18710300000002, 39.819809),\n",
       " (-81.820786, 41.371895),\n",
       " (-83.075813, 39.999187),\n",
       " (-84.163101, 39.741695),\n",
       " (-83.014236, 39.917412),\n",
       " (-81.76001, 41.423275),\n",
       " (-82.985054, 39.993843),\n",
       " (-81.821457, 41.36974),\n",
       " (-81.816078, 41.420506),\n",
       " (-81.64676700000003, 41.407391),\n",
       " (-84.137642, 39.869961),\n",
       " (-83.303154, 39.75782),\n",
       " (-84.18960600000003, 39.84182),\n",
       " (-84.10419499999998, 39.695045),\n",
       " (-84.224075, 39.754223),\n",
       " (-84.191811, 39.759544),\n",
       " (-84.180534, 39.755566),\n",
       " (-84.189583, 39.960938),\n",
       " (-84.155869, 39.609039),\n",
       " (-82.960274, 39.953472),\n",
       " (-83.036079, 40.106297),\n",
       " (-84.22734799999998, 39.812687),\n",
       " (-84.213142, 39.724258),\n",
       " (-82.995773, 39.929554),\n",
       " (-83.119225, 39.976398),\n",
       " (-82.98246800000003, 39.915928),\n",
       " (-84.173073, 39.009884),\n",
       " (-84.134987, 39.737701),\n",
       " (-82.961174, 39.974285),\n",
       " (-82.686996, 40.152611),\n",
       " (-84.18869000000002, 39.786629),\n",
       " (-83.156601, 40.016937),\n",
       " (-83.15389300000002, 40.003746),\n",
       " (-84.093002, 39.736061),\n",
       " (-83.647453, 41.375961),\n",
       " (-82.960373, 39.953648),\n",
       " (-84.231712, 39.767757),\n",
       " (-84.218811, 39.800312),\n",
       " (-84.17588, 39.754055),\n",
       " (-84.201782, 39.712257),\n",
       " (-84.149101, 39.759201),\n",
       " (-84.243698, 39.759472),\n",
       " (-84.217506, 39.797668),\n",
       " (-84.193298, 39.763664),\n",
       " (-84.191414, 39.758121),\n",
       " (-82.927544, 40.266499),\n",
       " (-83.155396, 40.099384),\n",
       " (-83.046265, 39.981926),\n",
       " (-84.170837, 39.786633),\n",
       " (-84.13780200000002, 39.765259),\n",
       " (-82.949692, 40.10564),\n",
       " (-84.1427, 39.762531),\n",
       " (-83.61036700000002, 41.428753),\n",
       " (-82.78984100000002, 39.985336),\n",
       " (-82.87687700000002, 39.955517),\n",
       " (-82.827904, 39.858089),\n",
       " (-84.142586, 39.763615),\n",
       " (-82.78944399999997, 39.933804),\n",
       " (-83.00573, 40.136345),\n",
       " (-84.157234, 39.76516),\n",
       " (-84.14218100000002, 39.772438),\n",
       " (-83.008698, 39.981968),\n",
       " (-84.16014100000002, 39.232101),\n",
       " (-82.99807, 40.061661),\n",
       " (-82.906921, 40.082397),\n",
       " (-84.220894, 39.317173),\n",
       " (-84.205147, 39.690781),\n",
       " (-84.18514300000002, 39.803726),\n",
       " (-84.25831600000002, 39.838779),\n",
       " (-84.167038, 39.76144),\n",
       " (-84.182121, 39.740906),\n",
       " (-84.198273, 39.81963),\n",
       " (-84.186996, 39.79969000000001),\n",
       " (-84.1418, 39.72364),\n",
       " (-84.13889300000002, 39.754055),\n",
       " (-84.223694, 39.831997),\n",
       " (-82.282776, 41.403744),\n",
       " (-84.17588, 39.754055),\n",
       " (-84.19626600000002, 39.630444),\n",
       " (-84.194542, 39.801601),\n",
       " (-84.189774, 39.752647),\n",
       " (-82.78944399999997, 39.933804),\n",
       " (-84.202606, 39.571163),\n",
       " (-84.236313, 39.17505300000001),\n",
       " (-83.02109499999997, 39.977322),\n",
       " (-84.180763, 39.175728),\n",
       " (-84.127998, 39.68865200000001),\n",
       " (-84.226151, 39.628288),\n",
       " (-83.06081400000002, 39.96764),\n",
       " (-84.255135, 39.797958),\n",
       " (-84.155045, 39.783669),\n",
       " (-83.049088, 39.989044),\n",
       " (-84.191528, 39.819721),\n",
       " (-84.188911, 39.783089),\n",
       " (-84.17076899999998, 39.590527),\n",
       " (-81.817856, 41.40274),\n",
       " (-82.99683399999998, 40.039909),\n",
       " (-82.983917, 39.972336),\n",
       " (-82.923073, 40.00164),\n",
       " (-82.898178, 39.902088),\n",
       " (-83.100853, 39.833824),\n",
       " (-84.216095, 39.713467),\n",
       " (-84.235283, 39.640202),\n",
       " (-84.204971, 39.733723),\n",
       " (-83.622826, 41.351006),\n",
       " (-83.993217, 39.845287),\n",
       " (-84.228088, 39.607788),\n",
       " (-84.13720699999998, 39.873238),\n",
       " (-82.922752, 40.058132),\n",
       " (-81.689758, 41.420975),\n",
       " (-84.183693, 39.788414),\n",
       " (-84.060753, 39.836643),\n",
       " (-81.662872, 41.039829),\n",
       " (-82.00456199999998, 38.581139),\n",
       " (-84.17588, 39.754055),\n",
       " (-83.116486, 39.929844),\n",
       " (-83.092667, 39.962147),\n",
       " (-84.218781, 39.697266),\n",
       " (-81.662689, 40.993092),\n",
       " (-83.993217, 39.845287),\n",
       " (-81.565163, 41.041447),\n",
       " (-81.64676700000003, 41.407391),\n",
       " (-81.583786, 41.037266),\n",
       " (-84.161491, 39.59872100000001),\n",
       " (-81.565704, 40.018669),\n",
       " (-84.21315799999998, 39.724251),\n",
       " (-84.177246, 39.758556),\n",
       " (-84.25914, 39.790565),\n",
       " (-84.15158100000002, 39.753105),\n",
       " (-83.06575, 40.301411),\n",
       " (-84.15900400000002, 39.732567),\n",
       " (-82.708252, 39.800358),\n",
       " (-83.622826, 41.351006),\n",
       " (-84.25914, 39.790565),\n",
       " (-84.15158100000002, 39.753105),\n",
       " (-83.016663, 40.11195),\n",
       " (-84.208702, 38.892097),\n",
       " (-82.885704, 39.981602),\n",
       " (-82.216049, 41.337879),\n",
       " (-84.163826, 39.747112),\n",
       " (-82.98741899999997, 40.087536),\n",
       " (-84.203339, 39.782368),\n",
       " (-83.049774, 39.87857800000001),\n",
       " (-84.22225999999998, 39.669388),\n",
       " (-84.212288, 39.626953),\n",
       " (-84.22734799999998, 39.812687),\n",
       " (-84.189087, 39.819839),\n",
       " (-83.01795200000002, 39.953262),\n",
       " (-84.157219, 39.739319),\n",
       " (-83.01690699999997, 39.91468),\n",
       " (-81.584183, 41.037647),\n",
       " (-84.207466, 39.798611),\n",
       " (-82.90679899999998, 40.083206),\n",
       " (-84.139359, 39.749916),\n",
       " (-84.145386, 39.752735),\n",
       " (-84.220665, 39.689022),\n",
       " (-84.20049300000002, 39.778011),\n",
       " (-81.565674, 41.399147),\n",
       " (-84.238388, 39.59670300000001),\n",
       " (-83.014801, 39.973015),\n",
       " (-84.19957, 39.777355),\n",
       " (-81.597305, 41.139114),\n",
       " (-84.224319, 39.64724),\n",
       " (-84.16544300000002, 39.745487),\n",
       " (-84.12197900000002, 39.732552),\n",
       " (-84.20049300000002, 39.778011),\n",
       " (-83.11835500000002, 40.002552),\n",
       " (-84.162888, 39.780014),\n",
       " (-84.209923, 39.643101),\n",
       " (-84.17716999999998, 39.767769),\n",
       " (-84.22734799999998, 39.812687),\n",
       " (-82.985458, 39.986324),\n",
       " (-84.223648, 40.109913),\n",
       " (-84.246307, 39.83847),\n",
       " (-84.17021899999997, 39.627991),\n",
       " (-83.061295, 39.945835),\n",
       " (-84.229485, 39.591389),\n",
       " (-84.21390500000003, 39.790302),\n",
       " (-83.056198, 39.927441),\n",
       " (-82.91548900000002, 39.946892),\n",
       " (-83.11835500000002, 40.002552),\n",
       " (-84.029114, 39.79031),\n",
       " (-84.236076, 39.087887),\n",
       " (-84.258705, 39.188583),\n",
       " (-83.797585, 39.012833),\n",
       " (-84.22003199999997, 40.151196),\n",
       " (-82.910225, 40.033405),\n",
       " (-84.229485, 39.591389),\n",
       " (-82.880074, 40.080338),\n",
       " (-83.027435, 40.200333),\n",
       " (-82.904129, 40.02504),\n",
       " (-82.90213, 40.013062),\n",
       " (-82.906418, 40.065559),\n",
       " (-84.229774, 39.588413),\n",
       " (-83.084763, 39.902195),\n",
       " (-83.616997, 41.370506),\n",
       " (-82.846558, 39.945427),\n",
       " (-82.846252, 39.945751),\n",
       " (-81.649101, 41.316475),\n",
       " (-84.170837, 39.786633),\n",
       " (-84.194244, 39.768337),\n",
       " (-84.154556, 39.797005),\n",
       " (-82.858887, 40.005947),\n",
       " (-83.268311, 39.355782),\n",
       " (-82.994598, 40.030914),\n",
       " (-84.183167, 39.746147),\n",
       " (-84.1763, 39.771233),\n",
       " (-83.119225, 39.976398),\n",
       " (-82.943558, 39.948391),\n",
       " (-84.070908, 39.321606),\n",
       " (-84.178314, 39.085529),\n",
       " (-84.177246, 39.758556),\n",
       " (-83.009911, 39.939571),\n",
       " (-84.20558199999998, 39.747753),\n",
       " (-84.093338, 39.815628),\n",
       " (-84.216339, 39.635357),\n",
       " (-84.151299, 39.757317),\n",
       " (-84.20156899999998, 39.768837),\n",
       " (-84.139359, 39.749916),\n",
       " (-84.220871, 39.685413),\n",
       " (-82.775238, 39.919437),\n",
       " (-83.09818299999998, 39.972076),\n",
       " (-84.206223, 39.791206),\n",
       " (-84.20476500000002, 39.778645),\n",
       " (-84.139359, 39.749916),\n",
       " (-82.852524, 39.934155),\n",
       " (-84.203598, 39.755344),\n",
       " (-83.033424, 40.045822),\n",
       " (-83.03280600000002, 40.051949),\n",
       " (-83.073151, 39.943745),\n",
       " (-83.039169, 39.89217),\n",
       " (-81.611633, 41.113785),\n",
       " (-83.036201, 39.948158),\n",
       " (-84.189087, 39.819839),\n",
       " (-84.183693, 39.788414),\n",
       " (-84.239487, 39.747406),\n",
       " (-84.20558199999998, 39.747753),\n",
       " (-84.183693, 39.788414),\n",
       " (-83.622826, 41.351006),\n",
       " (-84.25322, 39.756203),\n",
       " (-83.060631, 39.94365300000001),\n",
       " (-82.78984100000002, 39.985336),\n",
       " (-82.907898, 40.077419),\n",
       " (-84.152107, 39.739037),\n",
       " (-84.117058, 40.083298),\n",
       " (-83.036194, 40.089439),\n",
       " (-84.121658, 39.735844),\n",
       " (-84.187706, 39.764576),\n",
       " (-84.215065, 39.747974),\n",
       " (-84.20558199999998, 39.747753),\n",
       " (-83.03761300000002, 39.95232),\n",
       " (-82.928978, 40.01757),\n",
       " (-83.018555, 39.95652800000001),\n",
       " (-83.009911, 39.939571),\n",
       " (-84.139359, 39.749916),\n",
       " (-83.65884399999999, 41.137856),\n",
       " (-81.60992399999998, 41.112324),\n",
       " (-83.091064, 40.109077),\n",
       " (-84.23465, 39.779266),\n",
       " (-81.689758, 41.420975),\n",
       " (-84.238388, 39.59670300000001),\n",
       " (-84.135612, 39.772823),\n",
       " (-83.090813, 40.109497),\n",
       " (-82.87745699999998, 40.080402),\n",
       " (-84.18055, 39.741417),\n",
       " (-84.195686, 39.760406),\n",
       " (-84.188354, 39.627781),\n",
       " (-84.217506, 39.706184),\n",
       " (-84.22734799999998, 39.812687),\n",
       " (-84.15786700000002, 39.767471),\n",
       " (-82.898178, 39.902088),\n",
       " (-84.089935, 40.699066),\n",
       " (-84.235176, 39.811291),\n",
       " (-84.235176, 39.811291),\n",
       " (-84.055153, 39.872375),\n",
       " (-82.897026, 39.916485),\n",
       " (-84.20581800000002, 39.019779),\n",
       " (-84.253273, 39.096836),\n",
       " (-83.030991, 40.006477),\n",
       " (-82.87745699999998, 40.080402),\n",
       " (-84.13945799999998, 39.748081),\n",
       " (-82.862289, 40.003059),\n",
       " (-81.821655, 41.36795),\n",
       " (-84.142036, 39.75777100000001),\n",
       " (-84.139359, 39.749916),\n",
       " (-84.147224, 39.106014),\n",
       " (-84.228577, 39.603619),\n",
       " (-84.21775799999998, 39.636219),\n",
       " (-84.253807, 39.790596),\n",
       " (-84.18869000000002, 39.786629),\n",
       " (-83.016998, 40.112133),\n",
       " (-84.191978, 39.753288),\n",
       " (-84.211449, 39.770718),\n",
       " (-83.024574, 39.995968),\n",
       " (-83.089745, 40.131283),\n",
       " (-83.13369, 40.103794),\n",
       " (-82.997086, 40.047691),\n",
       " (-82.881676, 39.93639),\n",
       " (-83.975716, 40.827763),\n",
       " (-84.252678, 39.67155800000001),\n",
       " (-83.01509899999998, 40.028641),\n",
       " (-82.99479699999998, 40.02404),\n",
       " (-82.901276, 40.11182),\n",
       " (-83.134499, 40.09917100000001),\n",
       " (-82.419037, 40.059711),\n",
       " (-84.253998, 39.801685),\n",
       " (-84.25018299999998, 39.798016),\n",
       " (-83.025337, 39.995106),\n",
       " (-84.182121, 39.740906),\n",
       " (-84.205894, 39.757221),\n",
       " (-84.183006, 39.745384),\n",
       " (-84.157677, 39.658932),\n",
       " (-84.18723299999998, 39.780712),\n",
       " (-84.17588, 39.754055),\n",
       " (-84.19839499999998, 39.828781),\n",
       " (-84.222435, 39.805809),\n",
       " (-83.723129, 39.896893),\n",
       " (-84.219238, 39.715988),\n",
       " (-83.723129, 39.896893),\n",
       " (-84.219238, 39.715988),\n",
       " (-82.78944399999997, 39.933804),\n",
       " (-84.147636, 39.668198),\n",
       " (-84.20558199999998, 39.781204),\n",
       " (-84.18789699999998, 39.901142),\n",
       " (-83.162949, 39.903053),\n",
       " (-84.117981, 39.783173),\n",
       " (-84.178314, 39.085529),\n",
       " (-82.992203, 40.111134),\n",
       " (-82.943558, 39.948391),\n",
       " (-84.25376899999998, 39.786411),\n",
       " (-84.203339, 39.782368),\n",
       " (-84.15986600000002, 39.74688),\n",
       " (-84.231667, 39.596725),\n",
       " (-84.15226700000002, 39.784584),\n",
       " (-84.176964, 39.769596),\n",
       " (-83.456673, 39.696461),\n",
       " (-83.119835, 39.97847700000001),\n",
       " (-84.14045, 39.773762),\n",
       " (-83.044914, 39.956909),\n",
       " (-84.183693, 39.788414),\n",
       " (-82.216187, 38.843636),\n",
       " (-84.16555, 39.741505),\n",
       " (-82.974152, 39.978668),\n",
       " (-84.238388, 39.59670300000001),\n",
       " (-82.936417, 39.919376),\n",
       " (-84.18390699999998, 39.788647),\n",
       " (-83.003548, 39.858292),\n",
       " (-83.000374, 39.832066),\n",
       " (-83.009842, 39.965687),\n",
       " (-83.10006, 39.974941),\n",
       " (-82.13942, 41.403664),\n",
       " (-82.616463, 41.323063),\n",
       " (-81.828468, 41.420448),\n",
       " (-84.130341, 39.816311),\n",
       " (-84.235229, 39.798302),\n",
       " (-84.194016, 39.767513),\n",
       " (-84.210815, 39.671932),\n",
       " (-84.242554, 39.781044),\n",
       " (-84.174683, 39.774738),\n",
       " (-84.162796, 39.767204),\n",
       " (-83.017601, 39.95166),\n",
       " (-83.01724200000002, 39.950317),\n",
       " (-84.20874, 39.732437),\n",
       " (-84.135544, 39.253136),\n",
       " (-84.190063, 39.790283),\n",
       " (-83.031151, 39.946922),\n",
       " (-83.045815, 39.956467),\n",
       " (-84.157799, 39.641197),\n",
       " (-81.897865, 41.425308),\n",
       " (-83.014236, 39.917412),\n",
       " (-82.984566, 39.981674),\n",
       " (-83.024689, 39.994205),\n",
       " (-82.918137, 40.004406),\n",
       " (-83.137772, 40.084126),\n",
       " (-82.997467, 39.959778),\n",
       " (-82.986023, 40.008327),\n",
       " (-83.150467, 39.977394),\n",
       " (-82.994576, 40.025917),\n",
       " (-81.64746099999998, 41.40752),\n",
       " (-81.554153, 41.060379),\n",
       " (-82.949692, 40.10564),\n",
       " (-84.240646, 39.732307),\n",
       " (-84.208702, 38.892097),\n",
       " (-84.235069, 39.536186),\n",
       " (-84.21578199999998, 39.805882),\n",
       " (-82.877861, 39.944817),\n",
       " (-84.249039, 39.370232),\n",
       " (-84.14502, 39.734035),\n",
       " (-83.97833299999998, 39.808914),\n",
       " (-84.161659, 39.735283),\n",
       " (-84.237328, 39.820873),\n",
       " (-83.091125, 40.105621),\n",
       " (-84.07486, 39.050854),\n",
       " (-84.239983, 39.751579),\n",
       " (-82.116928, 41.404495),\n",
       " (-84.200005, 39.625694),\n",
       " (-83.641235, 41.383537),\n",
       " (-84.236465, 39.76926),\n",
       " (-84.155518, 39.592564),\n",
       " (-84.183693, 39.788414),\n",
       " (-84.21869699999998, 39.800083),\n",
       " (-84.204971, 39.733723),\n",
       " (-84.140419, 39.738392),\n",
       " (-84.232414, 39.645313),\n",
       " (-84.233627, 39.651726),\n",
       " (-82.600075, 39.945255),\n",
       " (-84.166382, 39.783661),\n",
       " (-82.896858, 40.082298),\n",
       " (-84.167778, 39.75125900000001),\n",
       " (-84.13945799999998, 39.748081),\n",
       " (-83.073151, 39.943745),\n",
       " (-81.64676700000003, 41.407391),\n",
       " (-84.235107, 39.802471),\n",
       " (-84.205185, 39.787209),\n",
       " (-84.15831, 39.731812),\n",
       " (-84.204971, 39.733723),\n",
       " (-84.220001, 39.812775),\n",
       " (-84.215851, 39.794266),\n",
       " (-84.187706, 39.764576),\n",
       " (-84.20468100000002, 39.819523),\n",
       " (-84.183693, 39.788414),\n",
       " (-82.83625, 39.980274),\n",
       " (-84.187454, 39.773193),\n",
       " (-83.978874, 39.941711),\n",
       " (-84.185776, 39.737404),\n",
       " (-82.906921, 40.082397),\n",
       " (-84.235176, 39.184589),\n",
       " (-82.784538, 39.923038),\n",
       " (-84.183006, 39.745384),\n",
       " (-82.855354, 39.870964),\n",
       " (-83.118767, 39.981812),\n",
       " (-83.118156, 39.997391),\n",
       " (-84.20303299999998, 39.632637),\n",
       " (-83.045517, 39.9767),\n",
       " (-84.152336, 39.72419),\n",
       " (-84.194901, 39.770382),\n",
       " (-82.928535, 40.266563),\n",
       " (-81.877464, 41.42202800000001),\n",
       " (-84.16755699999999, 39.820084),\n",
       " (-84.17588, 39.754055),\n",
       " (-84.135796, 39.122822),\n",
       " (-84.22461700000002, 39.803738),\n",
       " (-84.117653, 39.596882),\n",
       " (-84.135452, 39.615669),\n",
       " (-83.014801, 39.973015),\n",
       " (-82.970123, 39.949711),\n",
       " (-82.970123, 39.949711),\n",
       " (-84.204971, 39.733723),\n",
       " (-84.172325, 39.74773),\n",
       " (-84.186539, 39.740417),\n",
       " (-84.200005, 39.625694),\n",
       " (-84.236137, 39.785046),\n",
       " (-84.178291, 39.749626),\n",
       " (-84.253738, 39.783344),\n",
       " (-84.16755699999999, 39.820084),\n",
       " (-84.230324, 39.739201),\n",
       " (-84.235085, 39.790916),\n",
       " (-84.235146, 39.80933),\n",
       " (-83.02684, 39.904541),\n",
       " (-82.98451999999997, 39.982506),\n",
       " (-84.142036, 39.75777100000001),\n",
       " (-84.14344799999998, 39.736004),\n",
       " (-84.161491, 39.59872100000001),\n",
       " (-84.194923, 39.74004),\n",
       " (-84.243752, 39.77626),\n",
       " (-84.194153, 39.62394000000001),\n",
       " (-84.163055, 39.73232700000001),\n",
       " (-84.253517, 39.772064),\n",
       " (-84.253517, 39.772064),\n",
       " (-82.927452, 40.263664),\n",
       " (-84.223244, 39.658939),\n",
       " (-84.221413, 39.67889),\n",
       " (-84.199493, 39.749786),\n",
       " (-84.183006, 39.745384),\n",
       " (-84.200005, 39.625694),\n",
       " (-82.973045, 40.120651),\n",
       " (-81.652153, 41.128685),\n",
       " (-83.370483, 39.959805),\n",
       " (-122.233017, 38.0853),\n",
       " (-122.084167, 37.631813),\n",
       " (-122.070717, 37.896564),\n",
       " (-122.032471, 37.334255),\n",
       " (-121.910713, 37.250729),\n",
       " (-121.906929, 37.701584),\n",
       " (-121.871811, 37.328312),\n",
       " (-122.448273, 37.719162),\n",
       " (-122.19593, 37.868114),\n",
       " (-121.80175, 37.700951),\n",
       " (-122.713707, 38.321342),\n",
       " (-122.037445, 38.005135),\n",
       " (-121.773895, 37.70071400000001),\n",
       " (-122.012772, 37.395771),\n",
       " (-121.872177, 37.701576),\n",
       " (-121.408768, 38.481682),\n",
       " (-121.33628799999998, 38.682713),\n",
       " (-121.995895, 37.391258),\n",
       " (-122.220863, 37.775215),\n",
       " (-121.970436, 37.418728),\n",
       " (-121.904358, 37.38237),\n",
       " (-121.849533, 37.701363),\n",
       " (-121.633308, 37.131519),\n",
       " (-122.708183, 38.303768),\n",
       " (-122.113785, 38.026699),\n",
       " (-122.607536, 38.220692),\n",
       " (-122.396652, 37.613815),\n",
       " (-121.376694, 38.646683),\n",
       " (-122.107491, 37.66637),\n",
       " (-121.773895, 37.70071400000001),\n",
       " (-122.808311, 38.54702),\n",
       " (-122.029907, 37.856171),\n",
       " (-121.626114, 37.119289),\n",
       " (-121.59922, 37.088932),\n",
       " (-122.864983, 38.601768),\n",
       " (-122.393188, 37.701061),\n",
       " (-122.12313799999998, 37.448879),\n",
       " (-122.404938, 37.732746),\n",
       " (-122.403236, 37.749485),\n",
       " (-121.923073, 37.454247),\n",
       " (-121.908859, 37.401531),\n",
       " (-121.637466, 38.563538),\n",
       " (-122.304802, 37.825397),\n",
       " (-122.228767, 37.8009),\n",
       " (-121.945389, 37.31665),\n",
       " (-121.350449, 38.36479600000001),\n",
       " (-121.699516, 38.551689),\n",
       " (-121.401459, 38.618011),\n",
       " (-122.386093, 37.49221),\n",
       " (-122.155205, 37.46876500000001),\n",
       " (-121.37175, 38.452553),\n",
       " (-121.580826, 37.741356),\n",
       " (-121.31208, 38.668053),\n",
       " (-122.247955, 37.78735),\n",
       " (-121.145889, 38.781418),\n",
       " (-122.068192, 37.608707),\n",
       " (-121.717918, 38.547523),\n",
       " (-122.06575, 37.977779),\n",
       " (-121.852043, 37.339455),\n",
       " (-122.296257, 37.553684),\n",
       " (-122.415413, 37.731983),\n",
       " (-122.219765, 37.854485),\n",
       " (-122.039635, 37.992588),\n",
       " (-121.26548, 38.58997),\n",
       " (-121.11116, 39.328636),\n",
       " (-121.396133, 38.481689),\n",
       " (-122.144402, 37.462418),\n",
       " (-121.912468, 38.404911),\n",
       " (-121.247093, 38.744423),\n",
       " (-121.556808, 38.203735),\n",
       " (-121.591881, 38.671062),\n",
       " (-121.336296, 38.566139),\n",
       " (-121.299644, 38.846264),\n",
       " (-121.513878, 38.564201),\n",
       " (-120.847435, 38.682323),\n",
       " (-122.513168, 37.923492),\n",
       " (-122.140167, 37.692444),\n",
       " (-121.989738, 37.804386),\n",
       " (-121.95821399999998, 37.252171),\n",
       " (-121.911278, 37.701649),\n",
       " (-122.475616, 37.807072),\n",
       " (-122.074669, 37.690559),\n",
       " (-121.335495, 37.766987),\n",
       " (-121.779655, 37.700043),\n",
       " (-121.296669, 37.933292),\n",
       " (-123.354477, 39.411289),\n",
       " (-121.443192, 38.556145),\n",
       " (-121.273468, 38.74008900000001),\n",
       " (-121.273468, 38.74008900000001),\n",
       " (-121.226074, 38.74398400000001),\n",
       " (-122.73214, 38.477348),\n",
       " (-122.124481, 37.364136),\n",
       " (-121.910576, 37.314922),\n",
       " (-122.370888, 37.955566),\n",
       " (-121.789146, 38.501938),\n",
       " (-121.540237, 38.714298),\n",
       " (-122.101685, 37.69278),\n",
       " (-121.02877, 39.267353),\n",
       " (-122.804314, 39.098984),\n",
       " (-122.244514, 37.785709),\n",
       " (-121.785194, 37.996063),\n",
       " (-122.447746, 38.558533),\n",
       " (-122.060768, 37.926357),\n",
       " (-121.837746, 37.352432),\n",
       " (-121.876823, 37.301517),\n",
       " (-122.366852, 37.808498),\n",
       " (-122.100662, 37.674477),\n",
       " (-122.025429, 37.549904),\n",
       " (-122.594177, 38.176636),\n",
       " (-122.36186200000002, 37.590557),\n",
       " (-121.508064, 38.606236),\n",
       " (-121.88523899999998, 37.57436),\n",
       " (-120.886917, 38.692123),\n",
       " (-122.08654, 38.242306),\n",
       " (-122.042366, 37.036915),\n",
       " (-121.723686, 37.708939),\n",
       " (-120.944992, 38.094425),\n",
       " (-121.995987, 37.359665),\n",
       " (-122.31488, 37.986759),\n",
       " (-122.286018, 37.997124),\n",
       " (-122.212852, 37.488846),\n",
       " (-121.307381, 38.578747),\n",
       " (-122.060852, 37.598789),\n",
       " (-122.037445, 38.005135),\n",
       " (-121.92247, 37.701225),\n",
       " (-121.33287, 38.686363),\n",
       " (-122.341293, 37.506924),\n",
       " (-121.684853, 36.666836),\n",
       " (-122.274803, 37.798454),\n",
       " (-121.521584, 38.522472),\n",
       " (-122.53876499999998, 38.069008),\n",
       " (-122.451241, 38.149895),\n",
       " (-122.31713899999998, 37.910786),\n",
       " (-122.210243, 37.861332),\n",
       " (-121.957268, 36.992775),\n",
       " (-121.898407, 36.609657),\n",
       " (-121.81778, 37.700855),\n",
       " (-121.701744, 36.676228),\n",
       " (-122.229858, 38.100746),\n",
       " (-121.923294, 37.495384),\n",
       " (-121.888161, 37.434715),\n",
       " (-121.870926, 37.588905),\n",
       " (-122.262299, 38.022526),\n",
       " (-122.196472, 37.740906),\n",
       " (-122.112236, 38.02545900000001),\n",
       " (-121.872658, 37.605614),\n",
       " (-121.841774, 36.624298),\n",
       " (-121.831551, 37.318287),\n",
       " (-121.459702, 38.510151),\n",
       " (-121.38831299999998, 38.644184),\n",
       " (-121.373085, 38.559532),\n",
       " (-121.58578500000002, 37.74055900000001),\n",
       " (-122.286018, 37.997124),\n",
       " (-122.059784, 37.337513),\n",
       " (-122.007233, 37.276817),\n",
       " (-121.45028700000002, 38.494873),\n",
       " (-121.35331, 38.409306),\n",
       " (-122.071281, 37.89658),\n",
       " (-121.324814, 37.955479),\n",
       " (-122.262299, 38.022526),\n",
       " (-122.133484, 37.687485),\n",
       " (-122.032471, 37.334255),\n",
       " (-121.963829, 37.381866),\n",
       " (-122.394241, 37.704407),\n",
       " (-122.199928, 38.169338),\n",
       " (-122.266594, 37.795124),\n",
       " (-122.007233, 37.276817),\n",
       " (-122.392464, 37.756107),\n",
       " (-122.263992, 37.793484),\n",
       " (-122.184158, 37.877388),\n",
       " (-121.421066, 38.478897),\n",
       " (-122.292496, 37.54932),\n",
       " (-121.404259, 38.588772),\n",
       " (-122.216171, 37.76329000000001),\n",
       " (-122.074287, 37.994179),\n",
       " (-121.473755, 38.641266),\n",
       " (-121.397972, 38.631653),\n",
       " (-122.035637, 37.560719),\n",
       " (-121.335594, 38.343533),\n",
       " (-121.509056, 38.546047),\n",
       " (-121.960167, 38.026489),\n",
       " (-121.062012, 39.202377),\n",
       " (-121.982933, 36.988647),\n",
       " (-121.923859, 37.539642),\n",
       " (-121.395554, 38.116135),\n",
       " (-122.461472, 38.23616),\n",
       " (-121.359612, 38.676525),\n",
       " (-122.39267, 37.784885),\n",
       " (-121.91433700000002, 37.351471),\n",
       " (-121.095352, 38.937412),\n",
       " (-121.253479, 38.772587),\n",
       " (-121.029884, 39.300751),\n",
       " (-121.879219, 37.410072),\n",
       " (-121.352432, 38.675251),\n",
       " (-121.33844, 38.667656),\n",
       " (-121.235008, 38.678547),\n",
       " (-121.061333, 39.143547),\n",
       " (-121.69381, 38.552616),\n",
       " (-122.032478, 37.570854),\n",
       " (-121.046089, 38.945255),\n",
       " (-121.08866100000002, 38.929756),\n",
       " (-121.911858, 37.31652800000001),\n",
       " (-121.909073, 37.315025),\n",
       " (-122.293343, 37.830669),\n",
       " (-122.406021, 37.641117),\n",
       " (-122.052116, 37.693237),\n",
       " (-122.029083, 37.852394),\n",
       " (-121.358482, 38.373032),\n",
       " (-121.434265, 38.64341),\n",
       " (-121.739067, 38.537041),\n",
       " (-121.467201, 38.559505),\n",
       " (-121.509315, 38.546028),\n",
       " (-121.09426100000002, 38.942398),\n",
       " (-121.529411, 38.618366),\n",
       " (-121.314514, 37.779552),\n",
       " (-121.282875, 37.851658),\n",
       " (-121.434677, 38.64315),\n",
       " (-120.969086, 38.658169),\n",
       " (-121.324409, 37.638012),\n",
       " (-121.951538, 37.31638),\n",
       " (-121.253128, 38.767025),\n",
       " (-121.03894, 39.233013),\n",
       " (-121.382942, 38.651775),\n",
       " (-122.414825, 37.634174),\n",
       " (-122.049042, 37.581238),\n",
       " (-121.382904, 38.601833),\n",
       " (-122.461472, 38.236176),\n",
       " (-122.39138, 37.785542),\n",
       " (-120.99706299999998, 37.62746),\n",
       " (-120.915413, 38.761791),\n",
       " (-122.116844, 38.229401),\n",
       " (-121.878082, 37.327499),\n",
       " (-121.379982, 37.750488),\n",
       " (-121.941536, 37.37682),\n",
       " (-122.163582, 37.38965200000001),\n",
       " (-122.07856, 37.70306),\n",
       " (-121.940826, 37.323593),\n",
       " (-121.918709, 37.690514),\n",
       " (-121.901588, 37.656654),\n",
       " (-122.151398, 37.753693),\n",
       " (-122.120537, 38.227737),\n",
       " (-122.405533, 37.769375),\n",
       " (-122.071869, 37.696819),\n",
       " (-122.306038, 37.8745),\n",
       " (-122.403008, 37.752502),\n",
       " (-121.300407, 37.7883),\n",
       " (-121.300247, 38.860706),\n",
       " (-121.218956, 37.86365900000001),\n",
       " (-122.37265, 37.54723),\n",
       " (-121.936485, 37.33442700000001),\n",
       " (-121.523094, 36.950603),\n",
       " (-121.337288, 38.660831),\n",
       " (-122.12883, 38.222748),\n",
       " (-121.846283, 37.343258),\n",
       " (-121.317451, 37.777836),\n",
       " (-121.22583799999998, 38.722092),\n",
       " (-122.627808, 38.246796),\n",
       " (-121.359779, 38.661053),\n",
       " (-121.034325, 37.813274),\n",
       " (-122.435219, 37.731277),\n",
       " (-121.914902, 37.315239),\n",
       " (-121.871277, 37.328579),\n",
       " (-121.641479, 37.882004),\n",
       " (-121.168533, 38.835583),\n",
       " (-122.046196, 37.933201),\n",
       " (-121.902954, 37.657974),\n",
       " (-121.641922, 38.562939),\n",
       " (-121.965698, 38.022778),\n",
       " (-121.901588, 37.656654),\n",
       " (-121.392136, 38.690273),\n",
       " (-121.333244, 38.68111),\n",
       " (-121.070541, 38.653061),\n",
       " ...]"
      ]
     },
     "execution_count": 137,
     "metadata": {},
     "output_type": "execute_result"
    }
   ],
   "source": [
    "list(zip(list(df.Start_Lng), list(df.Start_Lat)))"
   ]
  },
  {
   "cell_type": "code",
   "execution_count": null,
   "id": "2e820126",
   "metadata": {},
   "outputs": [],
   "source": [
    "\n"
   ]
  },
  {
   "cell_type": "code",
   "execution_count": null,
   "id": "22cce612",
   "metadata": {},
   "outputs": [],
   "source": []
  },
  {
   "cell_type": "code",
   "execution_count": null,
   "id": "83b80a1d",
   "metadata": {},
   "outputs": [],
   "source": []
  },
  {
   "cell_type": "code",
   "execution_count": null,
   "id": "57a83cb6",
   "metadata": {},
   "outputs": [],
   "source": [
    "#Analysing the states with highest accident rated cities"
   ]
  },
  {
   "cell_type": "code",
   "execution_count": null,
   "id": "f14b3cb1",
   "metadata": {},
   "outputs": [],
   "source": []
  },
  {
   "cell_type": "code",
   "execution_count": null,
   "id": "ee60bbfd",
   "metadata": {},
   "outputs": [],
   "source": []
  },
  {
   "cell_type": "code",
   "execution_count": null,
   "id": "3a19a29b",
   "metadata": {},
   "outputs": [],
   "source": []
  }
 ],
 "metadata": {
  "kernelspec": {
   "display_name": "Python 3 (ipykernel)",
   "language": "python",
   "name": "python3"
  },
  "language_info": {
   "codemirror_mode": {
    "name": "ipython",
    "version": 3
   },
   "file_extension": ".py",
   "mimetype": "text/x-python",
   "name": "python",
   "nbconvert_exporter": "python",
   "pygments_lexer": "ipython3",
   "version": "3.9.12"
  }
 },
 "nbformat": 4,
 "nbformat_minor": 5
}
